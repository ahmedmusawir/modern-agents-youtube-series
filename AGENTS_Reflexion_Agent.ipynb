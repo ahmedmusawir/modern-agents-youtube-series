{
  "nbformat": 4,
  "nbformat_minor": 0,
  "metadata": {
    "colab": {
      "provenance": [],
      "collapsed_sections": [
        "GwJwumfzuhkq",
        "cq5SYtIiEKbm",
        "CxFfkyegNomO",
        "7W8Nq4YsN1BN",
        "_KJ8zdxOVvez",
        "cNyQaE35bd1K",
        "9qe6-aNJcNMP",
        "yrvZWPjOgz5Q",
        "yHkYQO_hhnKg",
        "0vnJP6i5i5t4",
        "fsolqEnulmeQ",
        "F8t1hC6ulv1A",
        "LserUAwBmHEx",
        "UyGgTVzQm-Ny",
        "qfwhYQ7hLCKW",
        "n7MpXXhxaf79",
        "kK7hbMoXot2S"
      ],
      "include_colab_link": true
    },
    "kernelspec": {
      "name": "python3",
      "display_name": "Python 3"
    },
    "language_info": {
      "name": "python"
    }
  },
  "cells": [
    {
      "cell_type": "markdown",
      "metadata": {
        "id": "view-in-github",
        "colab_type": "text"
      },
      "source": [
        "<a href=\"https://colab.research.google.com/github/ahmedmusawir/modern-agents-youtube-series/blob/main/AGENTS_Reflexion_Agent.ipynb\" target=\"_parent\"><img src=\"https://colab.research.google.com/assets/colab-badge.svg\" alt=\"Open In Colab\"/></a>"
      ]
    },
    {
      "cell_type": "markdown",
      "source": [
        "# SETUP"
      ],
      "metadata": {
        "id": "W5Hf61xxECLQ"
      }
    },
    {
      "cell_type": "markdown",
      "source": [
        "### INSTALLATIONS"
      ],
      "metadata": {
        "id": "GwJwumfzuhkq"
      }
    },
    {
      "cell_type": "code",
      "source": [
        "!pip install -q langchain\n",
        "!pip install -q langchain_openai\n",
        "!pip install -q langchain_community\n",
        "!pip install -q langgraph\n",
        "!pip install -q tavily-python\n",
        "!pip show langchain\n",
        "!pip show langgraph\n"
      ],
      "metadata": {
        "id": "ijfht7wVdjQj",
        "colab": {
          "base_uri": "https://localhost:8080/"
        },
        "outputId": "f11e7d8a-e853-42a9-d221-ad7313d3c12e"
      },
      "execution_count": 28,
      "outputs": [
        {
          "output_type": "stream",
          "name": "stdout",
          "text": [
            "Name: langchain\n",
            "Version: 0.3.9\n",
            "Summary: Building applications with LLMs through composability\n",
            "Home-page: https://github.com/langchain-ai/langchain\n",
            "Author: \n",
            "Author-email: \n",
            "License: MIT\n",
            "Location: /usr/local/lib/python3.10/dist-packages\n",
            "Requires: aiohttp, async-timeout, langchain-core, langchain-text-splitters, langsmith, numpy, pydantic, PyYAML, requests, SQLAlchemy, tenacity\n",
            "Required-by: langchain-community\n",
            "Name: langgraph\n",
            "Version: 0.2.53\n",
            "Summary: Building stateful, multi-actor applications with LLMs\n",
            "Home-page: https://www.github.com/langchain-ai/langgraph\n",
            "Author: \n",
            "Author-email: \n",
            "License: MIT\n",
            "Location: /usr/local/lib/python3.10/dist-packages\n",
            "Requires: langchain-core, langgraph-checkpoint, langgraph-sdk\n",
            "Required-by: \n"
          ]
        }
      ]
    },
    {
      "cell_type": "markdown",
      "source": [
        "### LOADING API KEY"
      ],
      "metadata": {
        "id": "2M08vPOMEGfn"
      }
    },
    {
      "cell_type": "code",
      "source": [
        "import os\n",
        "os.environ[\"OPENAI_API_KEY\"] =\"sk-proj-ulX3***************8CUAYWg7y8Ge8pROt\"\n",
        "os.environ[\"TAVILY_API_KEY\"] =\"tvly-YhkXkYI********************bAHuL5RCyaFG\"\n",
        "\n",
        "os.environ[\"LANGCHAIN_TRACING_V2\"] = \"true\"\n",
        "os.environ[\"LANGCHAIN_PROJECT\"] = f\"REFLEXION AGENT ORCHESTRATION\"\n",
        "os.environ[\"LANGCHAIN_ENDPOINT\"] = \"https://api.smith.langchain.com\"\n",
        "os.environ[\"LANGCHAIN_API_KEY\"] = \"lsv2_pt_4ce9**********8bcd65c_37d096d1b5\"\n"
      ],
      "metadata": {
        "id": "RlxEmS1CaM5v"
      },
      "execution_count": 29,
      "outputs": []
    },
    {
      "cell_type": "markdown",
      "source": [
        "### TESTING LANGSMITH & THE MODEL RESPONSE"
      ],
      "metadata": {
        "id": "cq5SYtIiEKbm"
      }
    },
    {
      "cell_type": "code",
      "source": [
        "from langsmith import Client\n",
        "\n",
        "client = Client()\n",
        "\n",
        "url = next(client.list_runs(project_name=\"default\")).url\n",
        "print(url)"
      ],
      "metadata": {
        "colab": {
          "base_uri": "https://localhost:8080/"
        },
        "id": "OnT-NgnwrN0u",
        "outputId": "886a72a0-38e9-4e22-fb42-45182a941e7e"
      },
      "execution_count": 30,
      "outputs": [
        {
          "output_type": "stream",
          "name": "stdout",
          "text": [
            "https://smith.langchain.com/o/78d862d3-7879-55b5-b000-52859f3a32c5/projects/p/4c0f688e-4788-4ef1-bace-18d9411516d5/r/3d1ac675-7e16-49dc-8698-d945eacc8d66?trace_id=3d1ac675-7e16-49dc-8698-d945eacc8d66&start_time=2024-09-24T01:31:58.815054\n"
          ]
        }
      ]
    },
    {
      "cell_type": "code",
      "source": [
        "from langchain_openai import ChatOpenAI\n",
        "import pprint\n",
        "\n",
        "# Create an instance of the OpenAI class\n",
        "llm = ChatOpenAI(model=\"gpt-4o\")\n",
        "# llm = ChatOpenAI(model=\"o1-mini\")\n",
        "\n",
        "# Generate text\n",
        "prompt = \"Who is Sam Harris (in one sentence)\"\n",
        "response = llm.invoke(prompt)\n",
        "# print(response)\n",
        "pprint.pprint(response.content)"
      ],
      "metadata": {
        "id": "pY09s9cmZ6nQ",
        "colab": {
          "base_uri": "https://localhost:8080/"
        },
        "outputId": "1ec3d1d9-620c-4d72-9a08-b6f9596f7cf3"
      },
      "execution_count": 31,
      "outputs": [
        {
          "output_type": "stream",
          "name": "stdout",
          "text": [
            "('Sam Harris is an American author, neuroscientist, philosopher, and podcast '\n",
            " 'host known for his writings and discussions on topics such as religion, '\n",
            " 'morality, neuroscience, and free will.')\n"
          ]
        }
      ]
    },
    {
      "cell_type": "markdown",
      "source": [
        "# REFLEXION AGENT ORCHESTRATION"
      ],
      "metadata": {
        "id": "2QoJSMxbFDcn"
      }
    },
    {
      "cell_type": "markdown",
      "source": [
        "## STEP 1: THE PREP"
      ],
      "metadata": {
        "id": "4LpWV2u3Cm6U"
      }
    },
    {
      "cell_type": "markdown",
      "source": [
        "### LOADING THE LIBRARIES & MAKING THE MODEL"
      ],
      "metadata": {
        "id": "CxFfkyegNomO"
      }
    },
    {
      "cell_type": "code",
      "execution_count": 32,
      "metadata": {
        "id": "a018b7ad-db1c-4939-b065-b7e5a622e208"
      },
      "outputs": [],
      "source": [
        "from langchain_core.messages import AnyMessage, SystemMessage, HumanMessage, AIMessage, ChatMessage\n",
        "from langgraph.graph import StateGraph, END\n",
        "from langchain_openai import ChatOpenAI\n",
        "\n",
        "model = ChatOpenAI(model='gpt-4o-mini', temperature=0)"
      ]
    },
    {
      "cell_type": "markdown",
      "source": [
        "### DEFINING THE AGENT STATE"
      ],
      "metadata": {
        "id": "7W8Nq4YsN1BN"
      }
    },
    {
      "cell_type": "code",
      "execution_count": 12,
      "metadata": {
        "id": "8ac505c9-cc57-4f5e-b9a7-2e747ad5d8d5"
      },
      "outputs": [],
      "source": [
        "from typing import TypedDict, List, Annotated\n",
        "\n",
        "# Creating a class for the agent state\n",
        "class AgentState(TypedDict):\n",
        "    task: str\n",
        "    plan: str\n",
        "    draft: str\n",
        "    critique: str\n",
        "    content: List[str]\n",
        "    revision_number: int\n",
        "    max_revisions: int"
      ]
    },
    {
      "cell_type": "markdown",
      "source": [
        "### SETTING THE QUERY DATA TYPE & TOOLING"
      ],
      "metadata": {
        "id": "_KJ8zdxOVvez"
      }
    },
    {
      "cell_type": "code",
      "execution_count": 13,
      "metadata": {
        "id": "8d5ae767-2fcf-41b9-aaf9-b0218a76b567"
      },
      "outputs": [],
      "source": [
        "from pydantic import BaseModel\n",
        "# Importing and instantiating a tavily client\n",
        "from tavily import TavilyClient\n",
        "\n",
        "class Queries(BaseModel):\n",
        "    queries: List[str]\n",
        "\n",
        "tavily = TavilyClient(api_key=os.environ['TAVILY_API_KEY'])\n"
      ]
    },
    {
      "cell_type": "markdown",
      "source": [
        "## STEP 2: IMPLEMENTING THE NODES/AGENTS"
      ],
      "metadata": {
        "id": "gwioVr6tazLd"
      }
    },
    {
      "cell_type": "markdown",
      "source": [
        "### THE PLANNING NODE/AGENT"
      ],
      "metadata": {
        "id": "cNyQaE35bd1K"
      }
    },
    {
      "cell_type": "code",
      "execution_count": 14,
      "metadata": {
        "id": "6640e799-9cde-4052-98bd-82cf8044c9bc"
      },
      "outputs": [],
      "source": [
        "# Defining the planning prompt\n",
        "PLAN_PROMPT = '''You are an expert writer tasked with writing a high level outline of an essay.\n",
        "Write such an outline for the user provided topic.\n",
        "Give an outline of the essay along with any relevant notes or instructions for the sections.'''\n",
        "\n",
        "# Creating the planning node\n",
        "def plan_node(state: AgentState):\n",
        "    messages = [\n",
        "        SystemMessage(content=PLAN_PROMPT),\n",
        "        HumanMessage(content=state['task'])\n",
        "    ]\n",
        "    response = model.invoke(messages)\n",
        "    return {\"plan\": response.content}\n"
      ]
    },
    {
      "cell_type": "markdown",
      "source": [
        "### THE RESEARCH PLANNER NODE/AGENT"
      ],
      "metadata": {
        "id": "9qe6-aNJcNMP"
      }
    },
    {
      "cell_type": "code",
      "execution_count": 15,
      "metadata": {
        "id": "d9742b50-a52b-4478-8c7a-e27bf0f6c6f6"
      },
      "outputs": [],
      "source": [
        "# Defining the prompt that will be used by the agent that's doing research after the planning step\n",
        "# Given a plan, it will generate some queries and pass them to Tavily Tool\n",
        "RESEARCH_PLAN_PROMPT = '''You are a researcher charged with providing information that can be used when writing the following essay.\n",
        "Generate a list of search queries that will gather any relevant information. Only generate 3 queries max.'''\n",
        "\n",
        "# Creating the reseach_plan_node\n",
        "# It generates research queries based on a given task and retrieves relevant content using those queries\n",
        "def research_plan_node(state: AgentState):\n",
        "    queries = model.with_structured_output(Queries).invoke([\n",
        "        SystemMessage(content=RESEARCH_PLAN_PROMPT),\n",
        "        HumanMessage(content=state['task'])\n",
        "    ])\n",
        "\n",
        "    content = state.get('content', [])\n",
        "\n",
        "    for q in queries.queries:\n",
        "        response = tavily.search(query=q, max_results=2)\n",
        "        for r in response['results']:\n",
        "            content.append(r['content'])\n",
        "    return {\"content\": content}\n"
      ]
    },
    {
      "cell_type": "markdown",
      "source": [
        "### THE WRITER (GENERATE) NODE/AGENT"
      ],
      "metadata": {
        "id": "yrvZWPjOgz5Q"
      }
    },
    {
      "cell_type": "code",
      "execution_count": 16,
      "metadata": {
        "id": "4d1940f6-ffac-4508-9de7-ad963f74c74a"
      },
      "outputs": [],
      "source": [
        "# Defining the writer prompt\n",
        "WRITER_PROMPT = '''You are an essay assistant tasked with writing excellent 5-paragraph essays.\n",
        "Generate the best essay possible for the user's request and the initial outline.\n",
        "If the user provides critique, respond with a revised version of your previous attempts.\n",
        "Utilize all the information below as needed:\n",
        "\n",
        "------\n",
        "\n",
        "{content}'''\n",
        "\n",
        "# Creating the generation node\n",
        "def generation_node(state: AgentState):\n",
        "    content = \"\\n\\n\".join(state['content'] or [])\n",
        "\n",
        "    user_message = HumanMessage(\n",
        "        content=f\"{state['task']}\\n\\nHere is my plan:\\n\\n{state['plan']}\")\n",
        "\n",
        "    messages = [\n",
        "        SystemMessage(\n",
        "            content=WRITER_PROMPT.format(content=content)\n",
        "        ),\n",
        "        user_message\n",
        "        ]\n",
        "\n",
        "    response = model.invoke(messages)\n",
        "\n",
        "    return {\n",
        "        \"draft\": response.content,\n",
        "        \"revision_number\": state.get(\"revision_number\", 1) + 1\n",
        "    }\n"
      ]
    },
    {
      "cell_type": "markdown",
      "source": [
        "### THE CRITIQUE (REFLECTION) NODE/AGENT"
      ],
      "metadata": {
        "id": "yHkYQO_hhnKg"
      }
    },
    {
      "cell_type": "code",
      "execution_count": 17,
      "metadata": {
        "id": "b2c20f31-7e3e-401e-b475-c55b62e7adeb"
      },
      "outputs": [],
      "source": [
        "# Defining the reflection prompt\n",
        "REFLECTION_PROMPT = '''You are a teacher grading an essay submission.\n",
        "Generate critique and recommendations for the user's submission.\n",
        "Provide detailed recommendations, including requests for length, depth, style, etc.'''\n",
        "\n",
        "# Creating the reflection node\n",
        "def reflection_node(state: AgentState):\n",
        "    messages = [\n",
        "        SystemMessage(content=REFLECTION_PROMPT),\n",
        "        HumanMessage(content=state['draft'])\n",
        "    ]\n",
        "    response = model.invoke(messages)\n",
        "    return {\"critique\": response.content}\n"
      ]
    },
    {
      "cell_type": "markdown",
      "source": [
        "### THE CRITIQUE RESEARCHER NODE/AGENT"
      ],
      "metadata": {
        "id": "0vnJP6i5i5t4"
      }
    },
    {
      "cell_type": "code",
      "execution_count": 18,
      "metadata": {
        "id": "9e072cfe-1a14-47f8-8b53-2d93fd4983fb"
      },
      "outputs": [],
      "source": [
        "# Defining the research critique prompt\n",
        "RESEARCH_CRITIQUE_PROMPT = '''You are a researcher charged with providing information that can\n",
        "be used when making any requested revisions (as outlined below).\n",
        "Generate a list of search queries that will gather any relevant information. Only generate 3 queries max.'''\n",
        "\n",
        "# Creating the research critique node\n",
        "def research_critique_node(state: AgentState):\n",
        "    queries = model.with_structured_output(Queries).invoke([\n",
        "        SystemMessage(content=RESEARCH_CRITIQUE_PROMPT),\n",
        "        HumanMessage(content=state['critique'])\n",
        "    ])\n",
        "    content = state['content'] or []\n",
        "    for q in queries.queries:\n",
        "        response = tavily.search(query=q, max_results=2)\n",
        "        for r in response['results']:\n",
        "            content.append(r['content'])\n",
        "    return {'content': content}\n"
      ]
    },
    {
      "cell_type": "markdown",
      "source": [
        "## STEP 3: THE GRAPH"
      ],
      "metadata": {
        "id": "fsolqEnulmeQ"
      }
    },
    {
      "cell_type": "markdown",
      "source": [
        "### DEFINING THE CONDITIONAL EDGE"
      ],
      "metadata": {
        "id": "F8t1hC6ulv1A"
      }
    },
    {
      "cell_type": "code",
      "execution_count": 19,
      "metadata": {
        "id": "bb0a535e-9223-4793-af1b-b6709e37953f"
      },
      "outputs": [],
      "source": [
        "# Defining the conditional edge\n",
        "def should_continue(state):\n",
        "    if state['revision_number'] > state['max_revisions']:\n",
        "        return END\n",
        "    return 'reflect'\n"
      ]
    },
    {
      "cell_type": "markdown",
      "source": [
        "### DEFINING THE GRAPH"
      ],
      "metadata": {
        "id": "LserUAwBmHEx"
      }
    },
    {
      "cell_type": "code",
      "execution_count": 33,
      "metadata": {
        "id": "dfb5fc17-3089-4fce-9df8-33e8ab3fcc17",
        "colab": {
          "base_uri": "https://localhost:8080/"
        },
        "outputId": "53f187e1-4aea-4629-e8a0-a2b3c2578cb7"
      },
      "outputs": [
        {
          "output_type": "execute_result",
          "data": {
            "text/plain": [
              "<langgraph.graph.state.StateGraph at 0x7ff451d55b40>"
            ]
          },
          "metadata": {},
          "execution_count": 33
        }
      ],
      "source": [
        "builder = StateGraph(AgentState)\n",
        "\n",
        "# Adding nodes to the graph\n",
        "builder.add_node('planner', plan_node)\n",
        "builder.add_node('generate', generation_node)\n",
        "builder.add_node('reflect', reflection_node)\n",
        "builder.add_node('research_plan', research_plan_node)\n",
        "builder.add_node('research_critique', research_critique_node)\n",
        "\n",
        "# Setting the entry point of the state graph\n",
        "builder.set_entry_point('planner')\n",
        "\n",
        "# Adding the conditional edge\n",
        "builder.add_conditional_edges(\n",
        "    'generate',\n",
        "    should_continue,\n",
        "    {END: END, 'reflect': 'reflect'}\n",
        ")\n",
        "\n",
        "# Adding regular edges\n",
        "builder.add_edge('planner', 'research_plan')\n",
        "builder.add_edge('research_plan', 'generate')\n",
        "\n",
        "builder.add_edge('reflect', 'research_critique')\n",
        "builder.add_edge('research_critique', 'generate')\n"
      ]
    },
    {
      "cell_type": "markdown",
      "source": [
        "## STEP 4: ADDING MEMORY"
      ],
      "metadata": {
        "id": "UyGgTVzQm-Ny"
      }
    },
    {
      "cell_type": "code",
      "execution_count": 34,
      "metadata": {
        "id": "aa046d75-3cf1-410c-bc33-8900bf97ebb0"
      },
      "outputs": [],
      "source": [
        "!pip install -q langgraph-checkpoint-sqlite"
      ]
    },
    {
      "cell_type": "code",
      "execution_count": 35,
      "metadata": {
        "id": "3dbec2fc-d15b-49e4-823e-b2ecd1c84ad6"
      },
      "outputs": [],
      "source": [
        "from langgraph.checkpoint.sqlite import SqliteSaver\n",
        "from langgraph.checkpoint.memory import MemorySaver\n",
        "\n",
        "memory = SqliteSaver.from_conn_string(':memory:')\n",
        "\n",
        "graph = builder.compile(checkpointer=MemorySaver())"
      ]
    },
    {
      "cell_type": "markdown",
      "source": [
        "## STEP 5: THE GRAPH IN ACTION"
      ],
      "metadata": {
        "id": "qfwhYQ7hLCKW"
      }
    },
    {
      "cell_type": "markdown",
      "source": [
        "### VIEWING THE GRAPH"
      ],
      "metadata": {
        "id": "n7MpXXhxaf79"
      }
    },
    {
      "cell_type": "code",
      "execution_count": 36,
      "metadata": {
        "id": "449632fe-c289-4ddf-8914-62b7300b24cc",
        "outputId": "ac12fe33-102e-4490-b0af-22ffa22f8fc9",
        "colab": {
          "base_uri": "https://localhost:8080/",
          "height": 563
        }
      },
      "outputs": [
        {
          "output_type": "display_data",
          "data": {
            "image/png": "[encoded data removed]",
            "text/plain": [
              "<IPython.core.display.Image object>"
            ]
          },
          "metadata": {}
        }
      ],
      "source": [
        "from IPython.display import Image, display\n",
        "display(Image(graph.get_graph().draw_mermaid_png()))\n"
      ]
    },
    {
      "cell_type": "markdown",
      "source": [
        "### RUNNING THE GRAPH"
      ],
      "metadata": {
        "id": "jSNJK5UpajI1"
      }
    },
    {
      "cell_type": "code",
      "execution_count": 37,
      "metadata": {
        "id": "58a49952-2e15-4f7a-8738-a66b92d4c686",
        "outputId": "63370e38-2620-4afe-90d3-a96035bb74a4",
        "colab": {
          "base_uri": "https://localhost:8080/"
        }
      },
      "outputs": [
        {
          "output_type": "stream",
          "name": "stdout",
          "text": [
            "{'planner': {'plan': \"**Outline for Essay: Reflection vs. Reflexion Agents**\\n\\n**I. Introduction**\\n   A. Definition of Reflection and Reflexion\\n      1. Explanation of the terms in a general context\\n      2. Importance of understanding the distinction between the two\\n   B. Purpose of the Essay\\n      1. To explore the differences and applications of reflection and reflexion agents\\n      2. To highlight the significance of each in various fields (e.g., psychology, artificial intelligence, philosophy)\\n\\n**II. Understanding Reflection Agents**\\n   A. Definition and Characteristics\\n      1. Explanation of what reflection agents are\\n      2. Key features: self-awareness, adaptability, and learning capabilities\\n   B. Applications of Reflection Agents\\n      1. In artificial intelligence: self-improving algorithms\\n      2. In psychology: self-reflective practices and personal growth\\n   C. Examples of Reflection Agents\\n      1. Case studies or real-world applications (e.g., AI systems that learn from user interactions)\\n\\n**III. Understanding Reflexion Agents**\\n   A. Definition and Characteristics\\n      1. Explanation of reflexion agents and their immediate response mechanisms\\n      2. Key features: automatic responses, lack of self-awareness, and pre-programmed behaviors\\n   B. Applications of Reflexion Agents\\n      1. In robotics: automated systems responding to stimuli\\n      2. In behavioral psychology: instinctual reactions and conditioned responses\\n   C. Examples of Reflexion Agents\\n      1. Case studies or real-world applications (e.g., robotic systems in manufacturing)\\n\\n**IV. Comparative Analysis**\\n   A. Key Differences Between Reflection and Reflexion Agents\\n      1. Self-awareness vs. automatic response\\n      2. Learning and adaptation vs. pre-programmed behavior\\n   B. Implications of These Differences\\n      1. Impact on technology development and user interaction\\n      2. Influence on psychological theories and practices\\n\\n**V. Conclusion**\\n   A. Summary of Key Points\\n      1. Recap of the definitions and applications of both types of agents\\n      2. Importance of distinguishing between reflection and reflexion in various contexts\\n   B. Final Thoughts\\n      1. The future of reflection and reflexion agents in technology and psychology\\n      2. Encouragement for further exploration and understanding of these concepts\\n\\n**Notes/Instructions:**\\n- Ensure clarity in definitions to avoid confusion between the two terms.\\n- Use examples that are relatable and relevant to the audience's understanding.\\n- Incorporate visuals or diagrams if necessary to illustrate the differences.\\n- Consider including quotes or references from experts in the fields of AI and psychology to support arguments.\\n- Maintain a neutral tone, presenting both sides of the discussion without bias.\"}}\n",
            "----------------------------------------------------------------------------------------------------\n",
            "{'research_plan': {'content': ['Reflection Psychology: The Power of Self-Examination Reflection Psychology: Exploring the Power of Self-Examination This ability to reflect on our own mental processes is not just a philosophical exercise; it’s a powerful tool for personal growth and psychological well-being. In formal terms, psychological reflection can be defined as the conscious and deliberate process of examining one’s own thoughts, feelings, and behaviors to gain insight and promote personal growth. Pioneers like John Dewey emphasized the importance of reflective thinking in learning and problem-solving, while Carl Rogers highlighted its role in personal growth and self-actualization. The power of reflection extends beyond personal use; it’s a valuable tool in various psychological practices. As we’ve explored, reflection psychology is a powerful tool for personal growth, self-understanding, and mental well-being.', 'Psychological Disorders Menu Toggle Personality Menu Toggle Emotions Menu Toggle Psychology Menu Toggle Therapy Menu Toggle Sexuality Menu Toggle 1. Self-Reflection: Self-reflection involves introspection and contemplation of one’s own thoughts, emotions, and behavior. It helps individuals gain self-awareness, enhance critical thinking skills, make better decisions, learn from mistakes, and foster continuous improvement. In conclusion, reflection is a valuable practice that allows individuals to gain self-awareness, learn from experiences, and grow personally and professionally. It encompasses various types such as self-reflection, critical reflection, reflective writing, and reflective practice. Psychological Disorders Menu Toggle Personality Menu Toggle Emotions Menu Toggle Psychology Menu Toggle Therapy Menu Toggle Sexuality Menu Toggle Psychological Disorders Menu Toggle Personality Menu Toggle Emotions Menu Toggle Psychology Menu Toggle Therapy Menu Toggle', \"What's the difference between reflection and reflexion? Reflection. Definition: (n.) The act of reflecting, or turning or sending back, or the state of being reflected. ... (15) Subtle differences between Chicago urban and Grand Forks rural climates are reflected in arthritic subjects' degree of pain and their perception of pain-related stress.\", \"The spelling reflection is now much commoner than reflexion in all uses, probably largely as a result of association with reflect v.; compare also flexion n., connection n., etc. N.E.D. (1905 ) notes that the spelling reflexion was then 'still common in scientific use, perhaps through its connexion with reflex'.\", \"We also explore how the test predicts children's mastery of counterintuitive concepts in science and mathematics. Findings suggest that cognitive reflection may be a prerequisite for developing, and improving, analytic thought, thus highlighting the value of studying cognitive reflection from a developmental perspective. (PsycInfo Database\", \"We also explore how the test predicts children's mastery of counterintuitive concepts in science and mathematics. Findings suggest that cognitive reflection may be a prerequisite for developing, and improving, analytic thought, thus highlighting the value of studying cognitive reflection from a developmental perspective.\"]}}\n",
            "----------------------------------------------------------------------------------------------------\n",
            "{'generate': {'draft': '**Reflection vs. Reflexion Agents**\\n\\n**I. Introduction**  \\nIn the realm of cognitive processes and artificial intelligence, the terms \"reflection\" and \"reflexion\" often arise, each carrying distinct meanings and implications. Reflection refers to the conscious and deliberate examination of one’s thoughts, feelings, and behaviors, while reflexion denotes automatic responses to stimuli without self-awareness. Understanding the distinction between these two concepts is crucial, as it influences various fields, including psychology, artificial intelligence, and philosophy. This essay aims to explore the differences and applications of reflection and reflexion agents, highlighting their significance in enhancing our understanding of cognitive processes and technological advancements.\\n\\n**II. Understanding Reflection Agents**  \\nReflection agents are entities characterized by self-awareness, adaptability, and learning capabilities. These agents engage in introspection, allowing them to analyze their own actions and thoughts, leading to personal growth and improved decision-making. In the realm of artificial intelligence, reflection agents are often self-improving algorithms that learn from user interactions, adapting their responses based on past experiences. In psychology, reflection agents manifest through self-reflective practices, enabling individuals to gain insights into their behaviors and emotions. For instance, AI systems like chatbots that learn from user feedback exemplify reflection agents, continuously evolving to provide better assistance.\\n\\n**III. Understanding Reflexion Agents**  \\nIn contrast, reflexion agents operate on the principle of automatic responses, characterized by pre-programmed behaviors and a lack of self-awareness. These agents react to stimuli without engaging in conscious thought or reflection. In robotics, reflexion agents are commonly found in automated systems that respond to environmental changes, such as robotic arms in manufacturing that execute tasks based on sensor inputs. In behavioral psychology, reflexion agents can be likened to instinctual reactions and conditioned responses, where individuals respond to stimuli based on learned behaviors rather than conscious thought. A prime example of reflexion agents is the use of automated systems in assembly lines, where machines perform tasks without the need for self-assessment or adaptation.\\n\\n**IV. Comparative Analysis**  \\nThe key differences between reflection and reflexion agents lie in their fundamental characteristics. Reflection agents possess self-awareness and the ability to learn and adapt, while reflexion agents rely on automatic responses and pre-programmed behaviors. These differences have significant implications for technology development and user interaction. For instance, reflection agents can enhance user experiences by providing personalized responses, while reflexion agents may lead to efficient but rigid systems that lack adaptability. Furthermore, the distinction influences psychological theories and practices, as understanding the mechanisms behind reflective and reflexive behaviors can inform therapeutic approaches and cognitive development strategies.\\n\\n**V. Conclusion**  \\nIn summary, reflection and reflexion agents represent two distinct cognitive processes with unique applications across various fields. Reflection agents, with their self-awareness and adaptability, play a vital role in personal growth and technological advancements, while reflexion agents serve essential functions in automated systems and instinctual responses. Distinguishing between these concepts is crucial for understanding their implications in technology and psychology. As we look to the future, the exploration of reflection and reflexion agents will continue to shape our understanding of cognitive processes and drive innovations in artificial intelligence and psychological practices. Encouraging further exploration of these concepts will enhance our ability to harness their potential for personal and technological growth.', 'revision_number': 2}}\n",
            "----------------------------------------------------------------------------------------------------\n",
            "{'reflect': {'critique': '**Critique of the Essay Submission:**\\n\\nYour essay on \"Reflection vs. Reflexion Agents\" presents a clear and structured exploration of the two concepts, effectively distinguishing between reflection and reflexion agents. The introduction sets a solid foundation, and the subsequent sections provide relevant examples and applications. However, there are several areas where you could enhance the depth, clarity, and overall impact of your essay.\\n\\n**Strengths:**\\n1. **Clear Definitions:** You provide clear definitions of both reflection and reflexion, which is essential for understanding the subsequent analysis.\\n2. **Structured Format:** The essay is well-organized, with distinct sections that guide the reader through your argument.\\n3. **Relevant Examples:** The use of examples, such as chatbots and robotic arms, helps to illustrate your points effectively.\\n\\n**Areas for Improvement:**\\n\\n1. **Depth of Analysis:**\\n   - While you provide definitions and examples, the analysis could benefit from deeper exploration. For instance, you could discuss the implications of these agents in more detail. How do reflection agents impact user experience in specific applications? What are the limitations of reflexion agents in complex environments?\\n   - Consider including more scholarly references or theories that support your claims, particularly in the psychological aspects of reflection and reflexion.\\n\\n2. **Length and Detail:**\\n   - The essay could be expanded to include more comprehensive discussions. Aim for a length of at least 1500-2000 words to allow for a more thorough exploration of the topics. This could include case studies, historical context, or future implications of these agents in AI and psychology.\\n\\n3. **Comparative Analysis:**\\n   - The comparative analysis section could be enhanced by including a table or a visual representation of the differences between reflection and reflexion agents. This would provide a quick reference for readers and reinforce your points.\\n   - Additionally, consider discussing potential overlaps or interactions between reflection and reflexion agents. Are there scenarios where both types of agents might be used together?\\n\\n4. **Style and Clarity:**\\n   - While the writing is generally clear, some sentences could be simplified for better readability. For example, the sentence \"These differences have significant implications for technology development and user interaction\" could be rephrased to be more direct.\\n   - Ensure that technical terms are defined for readers who may not be familiar with them. For instance, terms like \"self-improving algorithms\" could use a brief explanation.\\n\\n5. **Conclusion:**\\n   - The conclusion summarizes the main points well, but it could be strengthened by suggesting specific areas for future research or practical applications of reflection and reflexion agents. This would provide a forward-looking perspective that encourages further thought.\\n\\n**Recommendations:**\\n- Expand the essay to include more detailed analysis and examples, aiming for a length of 1500-2000 words.\\n- Incorporate scholarly references to support your arguments and provide a theoretical framework.\\n- Enhance the comparative analysis with visual aids and a discussion of potential interactions between the two types of agents.\\n- Simplify complex sentences for clarity and ensure that all technical terms are adequately defined.\\n- Strengthen the conclusion by suggesting future research directions or practical applications.\\n\\nBy addressing these areas, your essay will not only be more informative but also more engaging for the reader. Keep up the good work, and I look forward to seeing your revisions!'}}\n",
            "----------------------------------------------------------------------------------------------------\n",
            "{'research_critique': {'content': ['Reflection Psychology: The Power of Self-Examination Reflection Psychology: Exploring the Power of Self-Examination This ability to reflect on our own mental processes is not just a philosophical exercise; it’s a powerful tool for personal growth and psychological well-being. In formal terms, psychological reflection can be defined as the conscious and deliberate process of examining one’s own thoughts, feelings, and behaviors to gain insight and promote personal growth. Pioneers like John Dewey emphasized the importance of reflective thinking in learning and problem-solving, while Carl Rogers highlighted its role in personal growth and self-actualization. The power of reflection extends beyond personal use; it’s a valuable tool in various psychological practices. As we’ve explored, reflection psychology is a powerful tool for personal growth, self-understanding, and mental well-being.', 'Psychological Disorders Menu Toggle Personality Menu Toggle Emotions Menu Toggle Psychology Menu Toggle Therapy Menu Toggle Sexuality Menu Toggle 1. Self-Reflection: Self-reflection involves introspection and contemplation of one’s own thoughts, emotions, and behavior. It helps individuals gain self-awareness, enhance critical thinking skills, make better decisions, learn from mistakes, and foster continuous improvement. In conclusion, reflection is a valuable practice that allows individuals to gain self-awareness, learn from experiences, and grow personally and professionally. It encompasses various types such as self-reflection, critical reflection, reflective writing, and reflective practice. Psychological Disorders Menu Toggle Personality Menu Toggle Emotions Menu Toggle Psychology Menu Toggle Therapy Menu Toggle Sexuality Menu Toggle Psychological Disorders Menu Toggle Personality Menu Toggle Emotions Menu Toggle Psychology Menu Toggle Therapy Menu Toggle', \"What's the difference between reflection and reflexion? Reflection. Definition: (n.) The act of reflecting, or turning or sending back, or the state of being reflected. ... (15) Subtle differences between Chicago urban and Grand Forks rural climates are reflected in arthritic subjects' degree of pain and their perception of pain-related stress.\", \"The spelling reflection is now much commoner than reflexion in all uses, probably largely as a result of association with reflect v.; compare also flexion n., connection n., etc. N.E.D. (1905 ) notes that the spelling reflexion was then 'still common in scientific use, perhaps through its connexion with reflex'.\", \"We also explore how the test predicts children's mastery of counterintuitive concepts in science and mathematics. Findings suggest that cognitive reflection may be a prerequisite for developing, and improving, analytic thought, thus highlighting the value of studying cognitive reflection from a developmental perspective. (PsycInfo Database\", \"We also explore how the test predicts children's mastery of counterintuitive concepts in science and mathematics. Findings suggest that cognitive reflection may be a prerequisite for developing, and improving, analytic thought, thus highlighting the value of studying cognitive reflection from a developmental perspective.\", 'cs arXiv:2303.11366 Reflexion: Language Agents with Verbal Reinforcement Learning We propose Reflexion, a novel framework to reinforce language agents not by updating weights, but instead through linguistic feedback. Concretely, Reflexion agents verbally reflect on task feedback signals, then maintain their own reflective text in an episodic memory buffer to induce better decision-making in subsequent trials. Reflexion is flexible enough to incorporate various types (scalar values or free-form language) and sources (external or internally simulated) of feedback signals, and obtains significant improvements over a baseline agent across diverse tasks (sequential decision-making, coding, language reasoning). Subjects:   Artificial Intelligence (cs.AI); Computation and Language (cs.CL); Machine Learning (cs.LG) Cite as:    arXiv:2303.11366 [cs.AI] (or arXiv:2303.11366v4 [cs.AI] for this version) From: Noah Shinn [view email] cs.AI cs Bibliographic and Citation Tools Connected Papers Toggle', 'Reflexion. Reflexion is a framework to reinforce language-based agents through linguistic feedback. According to Shinn et al. (2023) (opens in a new tab), \"Reflexion is a new paradigm for \\'verbal\\' reinforcement that parameterizes a policy as an agent\\'s memory encoding paired with a choice of LLM parameters.\". At a high level, Reflexion converts feedback (either free-form language or', 'Self-reflective AI agents are emerging as innovative tools in the mental health landscape, providing unique interventions that enhance user engagement and promote emotional well-being. These agents leverage advanced algorithms to facilitate conversations that encourage users to reflect on their thoughts and feelings, ultimately fostering a', 'Reflecting on everyday experiences offers valuable insights and has the potential to enhance psychological well-being. Yet, only some have access to a facilitator for reflection. Conversational agents hold promise as companions for these discussions. We surveyed individuals with therapy experience to understand user needs and arrived at interaction strategies used in therapy. We then evaluated', 'cs arXiv:2303.11366 Reflexion: Language Agents with Verbal Reinforcement Learning We propose Reflexion, a novel framework to reinforce language agents not by updating weights, but instead through linguistic feedback. Concretely, Reflexion agents verbally reflect on task feedback signals, then maintain their own reflective text in an episodic memory buffer to induce better decision-making in subsequent trials. Reflexion is flexible enough to incorporate various types (scalar values or free-form language) and sources (external or internally simulated) of feedback signals, and obtains significant improvements over a baseline agent across diverse tasks (sequential decision-making, coding, language reasoning). Subjects:   Artificial Intelligence (cs.AI); Computation and Language (cs.CL); Machine Learning (cs.LG) Cite as:    arXiv:2303.11366 [cs.AI] (or arXiv:2303.11366v4 [cs.AI] for this version) From: Noah Shinn [view email] cs.AI cs Bibliographic and Citation Tools Connected Papers Toggle', 'For end-users, Reflexion-enhanced agents offer a more refined and responsive experience. By continuously improving their responses and actions, these agents can provide more accurate and helpful']}}\n",
            "----------------------------------------------------------------------------------------------------\n",
            "{'generate': {'draft': '**Reflection vs. Reflexion Agents**\\n\\n**I. Introduction**\\n\\nIn the realm of cognitive science and artificial intelligence, the terms \"reflection\" and \"reflexion\" represent two distinct concepts that play crucial roles in understanding human behavior and machine learning. Reflection refers to the conscious and deliberate process of examining one\\'s thoughts, feelings, and behaviors, while reflexion pertains to automatic responses that occur without self-awareness. Understanding the distinction between these two terms is essential, as it influences various fields, including psychology, artificial intelligence, and philosophy. This essay aims to explore the differences and applications of reflection and reflexion agents, highlighting their significance in enhancing personal growth and technological advancement.\\n\\n**II. Understanding Reflection Agents**\\n\\nReflection agents are systems or entities that possess self-awareness and the ability to learn from their experiences. These agents engage in introspection, allowing them to adapt and improve their responses based on past interactions. Key characteristics of reflection agents include their capacity for self-awareness, adaptability, and learning capabilities. In the field of artificial intelligence, reflection agents are employed in self-improving algorithms that analyze user interactions to enhance performance. In psychology, these agents facilitate self-reflective practices that promote personal growth and emotional well-being. For instance, AI systems designed to provide therapeutic support can learn from user feedback, tailoring their responses to better meet individual needs, thereby exemplifying the practical applications of reflection agents.\\n\\n**III. Understanding Reflexion Agents**\\n\\nIn contrast, reflexion agents operate on a different principle. These agents are characterized by their immediate response mechanisms, which are often pre-programmed and lack self-awareness. Reflexion agents rely on automatic responses to stimuli, making them efficient in environments where quick reactions are necessary. In robotics, reflexion agents are commonly used in automated systems that respond to environmental changes, such as robotic arms in manufacturing that execute tasks based on sensor inputs. In behavioral psychology, reflexion agents can be likened to instinctual reactions and conditioned responses, where behaviors are triggered by specific stimuli without conscious thought. An example of reflexion agents in action can be seen in automated customer service chatbots that provide predefined answers to common inquiries, demonstrating their reliance on programmed behaviors rather than adaptive learning.\\n\\n**IV. Comparative Analysis**\\n\\nThe key differences between reflection and reflexion agents lie in their levels of self-awareness and adaptability. Reflection agents engage in a conscious process of learning and adaptation, allowing them to evolve based on experiences. In contrast, reflexion agents operate through automatic responses, relying on pre-programmed behaviors that do not change over time. These differences have significant implications for technology development and user interaction. For instance, reflection agents can create more personalized and engaging user experiences, while reflexion agents may be limited in their ability to respond to complex or novel situations. Additionally, the distinction between these two types of agents influences psychological theories and practices, as understanding the mechanisms behind self-reflection can enhance therapeutic approaches.\\n\\n**V. Conclusion**\\n\\nIn summary, reflection and reflexion agents represent two distinct yet interconnected concepts that play vital roles in both technology and psychology. Reflection agents, characterized by self-awareness and adaptability, facilitate personal growth and enhance user experiences, while reflexion agents rely on automatic responses and pre-programmed behaviors. Distinguishing between these two terms is crucial for understanding their applications and implications in various contexts. As technology continues to evolve, the future of reflection and reflexion agents holds promise for further advancements in artificial intelligence and psychological practices. Encouraging further exploration and understanding of these concepts will ultimately lead to more effective tools for personal development and improved human-machine interactions.', 'revision_number': 3}}\n",
            "----------------------------------------------------------------------------------------------------\n"
          ]
        }
      ],
      "source": [
        "thread = {'configurable': {'thread_id': '1'}}\n",
        "task = 'Reflection vs Refelxion Agents'\n",
        "\n",
        "prompt = {\n",
        "    'task': task,\n",
        "    'max_revisions': 2,\n",
        "    'revision_number': 1,\n",
        "}\n",
        "\n",
        "events = graph.stream(prompt, thread)\n",
        "for e in events:\n",
        "    print(e)\n",
        "    print('-' * 100)"
      ]
    },
    {
      "cell_type": "markdown",
      "source": [
        "### THE FINAL PRODUCT"
      ],
      "metadata": {
        "id": "kK7hbMoXot2S"
      }
    },
    {
      "cell_type": "code",
      "execution_count": 38,
      "metadata": {
        "id": "e1e91ddb-7f9a-4f05-b9fb-d02b57fe4278",
        "outputId": "58a1b41e-08fc-4e2c-ee8d-6b40f4d1a7ed",
        "colab": {
          "base_uri": "https://localhost:8080/"
        }
      },
      "outputs": [
        {
          "output_type": "stream",
          "name": "stdout",
          "text": [
            "('**Reflection vs. Reflexion Agents**\\n'\n",
            " '\\n'\n",
            " '**I. Introduction**\\n'\n",
            " '\\n'\n",
            " 'In the realm of cognitive science and artificial intelligence, the terms '\n",
            " '\"reflection\" and \"reflexion\" represent two distinct concepts that play '\n",
            " 'crucial roles in understanding human behavior and machine learning. '\n",
            " \"Reflection refers to the conscious and deliberate process of examining one's \"\n",
            " 'thoughts, feelings, and behaviors, while reflexion pertains to automatic '\n",
            " 'responses that occur without self-awareness. Understanding the distinction '\n",
            " 'between these two terms is essential, as it influences various fields, '\n",
            " 'including psychology, artificial intelligence, and philosophy. This essay '\n",
            " 'aims to explore the differences and applications of reflection and reflexion '\n",
            " 'agents, highlighting their significance in enhancing personal growth and '\n",
            " 'technological advancement.\\n'\n",
            " '\\n'\n",
            " '**II. Understanding Reflection Agents**\\n'\n",
            " '\\n'\n",
            " 'Reflection agents are systems or entities that possess self-awareness and '\n",
            " 'the ability to learn from their experiences. These agents engage in '\n",
            " 'introspection, allowing them to adapt and improve their responses based on '\n",
            " 'past interactions. Key characteristics of reflection agents include their '\n",
            " 'capacity for self-awareness, adaptability, and learning capabilities. In the '\n",
            " 'field of artificial intelligence, reflection agents are employed in '\n",
            " 'self-improving algorithms that analyze user interactions to enhance '\n",
            " 'performance. In psychology, these agents facilitate self-reflective '\n",
            " 'practices that promote personal growth and emotional well-being. For '\n",
            " 'instance, AI systems designed to provide therapeutic support can learn from '\n",
            " 'user feedback, tailoring their responses to better meet individual needs, '\n",
            " 'thereby exemplifying the practical applications of reflection agents.\\n'\n",
            " '\\n'\n",
            " '**III. Understanding Reflexion Agents**\\n'\n",
            " '\\n'\n",
            " 'In contrast, reflexion agents operate on a different principle. These agents '\n",
            " 'are characterized by their immediate response mechanisms, which are often '\n",
            " 'pre-programmed and lack self-awareness. Reflexion agents rely on automatic '\n",
            " 'responses to stimuli, making them efficient in environments where quick '\n",
            " 'reactions are necessary. In robotics, reflexion agents are commonly used in '\n",
            " 'automated systems that respond to environmental changes, such as robotic '\n",
            " 'arms in manufacturing that execute tasks based on sensor inputs. In '\n",
            " 'behavioral psychology, reflexion agents can be likened to instinctual '\n",
            " 'reactions and conditioned responses, where behaviors are triggered by '\n",
            " 'specific stimuli without conscious thought. An example of reflexion agents '\n",
            " 'in action can be seen in automated customer service chatbots that provide '\n",
            " 'predefined answers to common inquiries, demonstrating their reliance on '\n",
            " 'programmed behaviors rather than adaptive learning.\\n'\n",
            " '\\n'\n",
            " '**IV. Comparative Analysis**\\n'\n",
            " '\\n'\n",
            " 'The key differences between reflection and reflexion agents lie in their '\n",
            " 'levels of self-awareness and adaptability. Reflection agents engage in a '\n",
            " 'conscious process of learning and adaptation, allowing them to evolve based '\n",
            " 'on experiences. In contrast, reflexion agents operate through automatic '\n",
            " 'responses, relying on pre-programmed behaviors that do not change over time. '\n",
            " 'These differences have significant implications for technology development '\n",
            " 'and user interaction. For instance, reflection agents can create more '\n",
            " 'personalized and engaging user experiences, while reflexion agents may be '\n",
            " 'limited in their ability to respond to complex or novel situations. '\n",
            " 'Additionally, the distinction between these two types of agents influences '\n",
            " 'psychological theories and practices, as understanding the mechanisms behind '\n",
            " 'self-reflection can enhance therapeutic approaches.\\n'\n",
            " '\\n'\n",
            " '**V. Conclusion**\\n'\n",
            " '\\n'\n",
            " 'In summary, reflection and reflexion agents represent two distinct yet '\n",
            " 'interconnected concepts that play vital roles in both technology and '\n",
            " 'psychology. Reflection agents, characterized by self-awareness and '\n",
            " 'adaptability, facilitate personal growth and enhance user experiences, while '\n",
            " 'reflexion agents rely on automatic responses and pre-programmed behaviors. '\n",
            " 'Distinguishing between these two terms is crucial for understanding their '\n",
            " 'applications and implications in various contexts. As technology continues '\n",
            " 'to evolve, the future of reflection and reflexion agents holds promise for '\n",
            " 'further advancements in artificial intelligence and psychological practices. '\n",
            " 'Encouraging further exploration and understanding of these concepts will '\n",
            " 'ultimately lead to more effective tools for personal development and '\n",
            " 'improved human-machine interactions.')\n"
          ]
        }
      ],
      "source": [
        "# print(e['generate']['draft'])\n",
        "pprint.pprint(e['generate']['draft'])"
      ]
    }
  ]
}