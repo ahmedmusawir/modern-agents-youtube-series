{
  "nbformat": 4,
  "nbformat_minor": 0,
  "metadata": {
    "colab": {
      "provenance": [],
      "collapsed_sections": [
        "GwJwumfzuhkq",
        "2M08vPOMEGfn",
        "cq5SYtIiEKbm",
        "TlGxYhzV1PW1",
        "6vcD0GsJCV-j",
        "Fi3YAgFaCdZM",
        "bwi08b73Czrb",
        "XK6Rpz24IINz",
        "gLtejpZvG7f0",
        "cM7w7mXVTXkL",
        "XfWOPfIxWdva",
        "O3ZGYIZLXJvh"
      ],
      "include_colab_link": true
    },
    "kernelspec": {
      "name": "python3",
      "display_name": "Python 3"
    },
    "language_info": {
      "name": "python"
    }
  },
  "cells": [
    {
      "cell_type": "markdown",
      "metadata": {
        "id": "view-in-github",
        "colab_type": "text"
      },
      "source": [
        "<a href=\"https://colab.research.google.com/github/ahmedmusawir/modern-agents-youtube-series/blob/main/LangGraph_Chatbot_Part_2.ipynb\" target=\"_parent\"><img src=\"https://colab.research.google.com/assets/colab-badge.svg\" alt=\"Open In Colab\"/></a>"
      ]
    },
    {
      "cell_type": "markdown",
      "source": [
        "# SETUP"
      ],
      "metadata": {
        "id": "W5Hf61xxECLQ"
      }
    },
    {
      "cell_type": "markdown",
      "source": [
        "### INSTALLATIONS"
      ],
      "metadata": {
        "id": "GwJwumfzuhkq"
      }
    },
    {
      "cell_type": "code",
      "source": [
        "!pip install -q langchain\n",
        "!pip install -q langchain_openai\n",
        "!pip install -q langchain_community\n",
        "!pip install -q langgraph-checkpoint-sqlite\n",
        "!pip install -q langgraph\n",
        "!pip show langchain"
      ],
      "metadata": {
        "id": "ijfht7wVdjQj",
        "colab": {
          "base_uri": "https://localhost:8080/"
        },
        "outputId": "8ec5dbb9-fb2e-4974-a5d9-bf84d5faaa2a"
      },
      "execution_count": null,
      "outputs": [
        {
          "output_type": "stream",
          "name": "stdout",
          "text": [
            "Name: langchain\n",
            "Version: 0.3.4\n",
            "Summary: Building applications with LLMs through composability\n",
            "Home-page: https://github.com/langchain-ai/langchain\n",
            "Author: \n",
            "Author-email: \n",
            "License: MIT\n",
            "Location: /usr/local/lib/python3.10/dist-packages\n",
            "Requires: aiohttp, async-timeout, langchain-core, langchain-text-splitters, langsmith, numpy, pydantic, PyYAML, requests, SQLAlchemy, tenacity\n",
            "Required-by: langchain-community\n"
          ]
        }
      ]
    },
    {
      "cell_type": "markdown",
      "source": [
        "### LOADING API KEY"
      ],
      "metadata": {
        "id": "2M08vPOMEGfn"
      }
    },
    {
      "cell_type": "code",
      "source": [
        "import os\n",
        "os.environ[\"OPENAI_API_KEY\"] =\"sk-proj-u*********************Wg7y8Ge8pROt\"\n",
        "os.environ[\"TAVILY_API_KEY\"] =\"tvly-Yhk******************L5RCyaFG\""
      ],
      "metadata": {
        "id": "RlxEmS1CaM5v"
      },
      "execution_count": null,
      "outputs": []
    },
    {
      "cell_type": "markdown",
      "source": [
        "### TESTING THE MODEL RESPONSE"
      ],
      "metadata": {
        "id": "cq5SYtIiEKbm"
      }
    },
    {
      "cell_type": "code",
      "source": [
        "from langchain_openai import ChatOpenAI\n",
        "import pprint\n",
        "\n",
        "# Create an instance of the OpenAI class\n",
        "llm = ChatOpenAI(model=\"gpt-4o\")\n",
        "\n",
        "# Generate text\n",
        "prompt = \"Who is Trump (in one sentence)\"\n",
        "response = llm.invoke(prompt)\n",
        "# print(response)\n",
        "pprint.pprint(response.content)"
      ],
      "metadata": {
        "id": "pY09s9cmZ6nQ",
        "colab": {
          "base_uri": "https://localhost:8080/"
        },
        "outputId": "92aaa581-a01e-41e2-cafd-3ce1b529de6c"
      },
      "execution_count": null,
      "outputs": [
        {
          "output_type": "stream",
          "name": "stdout",
          "text": [
            "('Donald Trump is an American businessman, television personality, and '\n",
            " 'politician who served as the 45th President of the United States from 2017 '\n",
            " 'to 2021.')\n"
          ]
        }
      ]
    },
    {
      "cell_type": "markdown",
      "source": [
        "# TAVILY SEARCH"
      ],
      "metadata": {
        "id": "TlGxYhzV1PW1"
      }
    },
    {
      "cell_type": "code",
      "execution_count": null,
      "metadata": {
        "id": "f4ddc45e-0a80-4d9f-a9ee-eefd5d633729"
      },
      "outputs": [],
      "source": [
        "!pip install -q tavily-python"
      ]
    },
    {
      "cell_type": "markdown",
      "source": [
        "### LET'S SEARCH"
      ],
      "metadata": {
        "id": "6vcD0GsJCV-j"
      }
    },
    {
      "cell_type": "code",
      "execution_count": null,
      "metadata": {
        "scrolled": true,
        "id": "362a7552-f2f6-4dfe-b031-63febaa6432b",
        "collapsed": true,
        "colab": {
          "base_uri": "https://localhost:8080/"
        },
        "outputId": "c36a8066-0fbf-4ce6-a0db-c09e7fbf48f1"
      },
      "outputs": [
        {
          "output_type": "stream",
          "name": "stdout",
          "text": [
            "[{'content': '2024 election guide: Presidential candidates, polls, primaries '\n",
            "             'and caucuses, voter information and results for November 5, 2024 '\n",
            "             '... US election looms over NATO discussions to Trump-proof '\n",
            "             'Ukraine aid.',\n",
            "  'raw_content': None,\n",
            "  'score': 0.9991204,\n",
            "  'title': 'Election 2024: Campaign news, presidential polls and results | CNN '\n",
            "           'Politics',\n",
            "  'url': 'https://www.cnn.com/election/2024'},\n",
            " {'content': 'Election 2024 Polls: Harris vs. Trump. Updated Oct. 22, 2024. '\n",
            "             'Leer en español. ... With two weeks to go, the polls of the '\n",
            "             'presidential election are starting to run out of room to get any '\n",
            "             'closer.',\n",
            "  'raw_content': None,\n",
            "  'score': 0.99850464,\n",
            "  'title': 'Election 2024 Polls: Harris vs. Trump - The New York Times',\n",
            "  'url': 'https://www.nytimes.com/interactive/2024/us/elections/polls-president.html'},\n",
            " {'content': 'See the latest polls, trends and odds for the 2024 presidential '\n",
            "             'election between Vice President Harris and former President '\n",
            "             'Trump. Harris leads by 3 percentage points nationally and has a '\n",
            "             \"54% chance of winning the Electoral College, according to 538's \"\n",
            "             'model.',\n",
            "  'raw_content': None,\n",
            "  'score': 0.9977482,\n",
            "  'title': 'Who Is Favored To Win The 2024 Presidential Election?',\n",
            "  'url': 'https://projects.fivethirtyeight.com/2024-election-forecast/'},\n",
            " {'content': 'On March 30, 2023, Trump was indicted by a grand jury in '\n",
            "             'Manhattan for his alleged role in a scandal stemming from hush '\n",
            "             'money payments made to Stormy Daniels before the 2016 '\n",
            "             'presidential election.[8]\\n'\n",
            "             'On May 10, 2023, Republican New York Congressman George Santos '\n",
            "             'was indicted on federal charges of fraud and money '\n",
            "             'laundering.[9]\\n'\n",
            "             'On June 8, 2023, Trump was indicted on 37 federal charges '\n",
            "             'related to his alleged mishandling of classified documents by '\n",
            "             'the office of the Smith special counsel investigation.[10]\\n'\n",
            "             'On August 1, 2023, a Washington, D.C., federal grand jury '\n",
            "             'indicted Trump again on four felony counts of conspiracy and '\n",
            "             \"obstruction related to Trump's role in the January 6 attack and \"\n",
            "             'his efforts to overturn the 2020 election.[11]\\n'\n",
            "             'On August 14, a Georgia grand jury indicted Trump on '\n",
            "             'racketeering and other felonies committed in an effort to '\n",
            "             \"overturn the state's 2020 election results and the \"\n",
            "             'Trump–Raffensperger phone call.[12][13] Thus, many conservative '\n",
            "             'political analysts and commentators called a continued '\n",
            "             'Republican alliance with the anti-abortion movement \"untenable\" '\n",
            "             'and an \"electoral disaster\", and urged the party to favor '\n",
            "             'abortion rights.[6] Some issue polling has shown Donald Trump, '\n",
            "             'the likely Republican nominee, outrunning his party and closing '\n",
            "             'the gap with Democrats on the issue of abortion, but no election '\n",
            "             'data with Trump directly on the ballot has happened to verify '\n",
            "             'these results.[7]\\n'\n",
            "             'Indictments[edit]\\n'\n",
            "             'On November 18, 2022, three days after former president and '\n",
            "             'Republican candidate Donald Trump announced his 2024 re-election '\n",
            "             'bid, U.S. Attorney General Merrick Garland appointed Jack Smith '\n",
            "             \"as special counsel to investigate Trump's role in the January 6 \"\n",
            "             \"U.S. Capitol attack and Trump's mishandling of government \"\n",
            "             'documents, including classified documents.\\n'\n",
            "             ' Three Democratic-held seats up for election are in the heavily '\n",
            "             'Republican-leaning states of Montana, Ohio, and West Virginia, '\n",
            "             'all of which were won comfortably by Trump in both 2016 and '\n",
            "             '2020.[23] Other potential Republican targets include seats in '\n",
            "             'Arizona, Michigan, Nevada, Pennsylvania, and Wisconsin, while '\n",
            "             'Democrats may target Republican-held seats in Florida and '\n",
            "             'Texas.[24]\\n'\n",
            "             'Two special elections are scheduled to fill the unexpired terms '\n",
            "             'of senators who vacated their seats during the 118th Congress:\\n'\n",
            "             'All 435 voting seats in the United States House of '\n",
            "             'Representatives will be up for election. On August 11, four '\n",
            "             'months after incumbent president and Democratic candidate Joe '\n",
            "             'Biden announced his re-election bid, Garland appointed David C. '\n",
            "             \"Weiss to serve as special counsel to investigate Biden's son, \"\n",
            "             'Hunter Biden, who was indicted on September 14, 2023, on three '\n",
            "             'federal firearms-related charges.[14][15]\\n'\n",
            "             'On September 22, 2023, Democratic U.S. Senator Bob Menendez of '\n",
            "             'New Jersey and his wife Nadine were both indicted on bribery '\n",
            "             'charges.[16][17]\\n'\n",
            "             'Federal elections[edit]\\n'\n",
            "             'Presidential election[edit]\\n'\n",
            "             'The 2024 United States presidential election will be the 60th '\n",
            "             'quadrennial U.S. presidential election. The first Republican '\n",
            "             'presidential debate was held on August 23, 2023, and the first '\n",
            "             'scheduled primary contest is the 2024 Iowa Republican '\n",
            "             'presidential caucuses, which will be held on January 15, '\n",
            "             '2024.[22]\\n'\n",
            "             'Congressional elections[edit]\\n'\n",
            "             'All 33 seats in Senate Class 1 and one seat in Senate Class 2 '\n",
            "             'will be up for election; at least one additional special '\n",
            "             'election will take place to fill vacancies that arise during the '\n",
            "             '118th Congress.',\n",
            "  'raw_content': None,\n",
            "  'score': 0.9949397,\n",
            "  'title': '2024 United States elections - Wikipedia',\n",
            "  'url': 'https://en.wikipedia.org/wiki/2024_United_States_elections'},\n",
            " {'content': 'Meanwhile, states like Colorado, New Mexico and Virginia have '\n",
            "             'moved noticeably towards the Democrats, and the party has become '\n",
            "             'the dominant political force there.[29][30][31]\\n'\n",
            "             'The Democratic electoral coalition, securing the \"blue states\" '\n",
            "             'for Democratic presidential candidates, performs best among '\n",
            "             'Jewish and Black voters;[32][33] whites who are wealthy or '\n",
            "             'postgraduates,[34] or live in urban areas.[35] Working class '\n",
            "             'voters were also a mainstay of the Democratic coalition since '\n",
            "             'the days of the New Deal, but since the 1970s, many have '\n",
            "             'defected to Republicans as the Democratic Party moved '\n",
            "             'significantly to the left on cultural issues.[36] Conversely, '\n",
            "             'the traditional Republican coalition that dominates many \"red '\n",
            "             'states\" is mainly composed of rural white voters, evangelicals, '\n",
            "             'the elderly, and non-college educated voters.[37]\\n'\n",
            "             'Republicans have also historically performed well with suburban, '\n",
            "             'middle class voters since the 1950s, but this bloc has drifted '\n",
            "             'away from them in recent years due to the rise of the Tea Party '\n",
            "             'movement and later the Make America Great Again movement.[38] '\n",
            "             \"Biden's support for Israel has greatly damaged Muslim support \"\n",
            "             'for Democrats in polling.[80] Polling has indicated a '\n",
            "             'significant divide between elite opinion of the Israel–Hamas '\n",
            "             'war, which has overwhelmingly taken the side of Israel, and the '\n",
            "             'general public.[81] A plurality of Americans oppose American '\n",
            "             'military aid to Israel and believe that the United States '\n",
            "             '\"should be a neutral mediator\" in the Israel-Palestinian '\n",
            "             'conflict rather than taking a side.[81] Among voters 18-34, 66 '\n",
            "             'percent disapprove of Israel’s conduct during the war and 20 '\n",
            "             'percent approve, while a majority take the side of Palestinians '\n",
            "             'predominately in the conflict.[82]\\n'\n",
            "             'Healthcare issues\\n'\n",
            "             'The issue of healthcare and drug policy, including whether the '\n",
            "             'United States should shift to a universal healthcare system,[83] '\n",
            "             'and the COVID-19 pandemic is expected to play a key role in the '\n",
            "             '2024 presidential election.[84]\\n'\n",
            "             ' If Trump is elected, he would become the second president to '\n",
            "             'win a second non-consecutive term, joining Grover Cleveland who '\n",
            "             'did so in 1892.[15]\\n'\n",
            "             'Election interference\\n'\n",
            "             'Donald Trump did not concede to Joe Biden in the 2020 '\n",
            "             'presidential election, citing unsubstantiated claims of voter '\n",
            "             'fraud, and has continued denying the election results as of '\n",
            "             '2023[update].[16][17] Election security experts have warned that '\n",
            "             'officials who deny the legitimacy of the 2020 presidential '\n",
            "             'election may attempt to impede the voting process or refuse to '\n",
            "             'certify the 2024 election results.[18]\\n'\n",
            "             'Polling before the election has indicated profound '\n",
            "             'dissatisfaction with the state of American '\n",
            "             'democracy.[19][20][21] Liberals tend to believe that '\n",
            "             'conservatives are threatening the country with autocratic '\n",
            "             'tendencies and their attempts to overturn the 2020 election.[22] '\n",
            "             'Many Republicans are concerned with attempts to prevent former '\n",
            "             'President Trump from holding public office by any means '\n",
            "             'necessary, including impeachment and indictment.[23]\\n'\n",
            "             'Electoral map\\n'\n",
            "             ' Supporters of the laws claim that conversations about racial '\n",
            "             'identity are not appropriate for a school '\n",
            "             'environment.[66][67][10] Critics of the laws against critical '\n",
            "             'race theory claim they whitewash American history and act as '\n",
            "             'memory laws to rewrite public memory of U.S. history.[68]\\n'\n",
            "             'Foreign policy\\n'\n",
            "             'The Israel–Hamas war and Russian invasion of Ukraine are '\n",
            "             'expected to be significant issues of the campaign.[69]\\n'\n",
            "             'The United States has provided significant military and '\n",
            "             'humanitarian aid to Ukraine throughout the Russian invasion of '\n",
            "             'Ukraine.[70][71][72] Democratic politicians and a significant '\n",
            "             'number of Republican politicians have supported this plan, '\n",
            "             'arguing that the United States has a significant role to play in '\n",
            "             '\"protecting democracy and fighting Russian aggression. This will '\n",
            "             'be the first U.S. presidential election to occur after the '\n",
            "             'reapportionment of votes in the United States Electoral College '\n",
            "             'following the 2020 United States census.[24][25] If the results '\n",
            "             'of the 2020 election were to stay the same (which has never '\n",
            "             'occurred in the history of presidential elections) in 2024, '\n",
            "             'Democrats would have 303 electoral votes against the '\n",
            "             \"Republicans' 235, a slight change from Biden's 306 electoral \"\n",
            "             \"votes and Trump's 232, meaning that Democrats lost a net of 3 \"\n",
            "             'electoral votes to the reapportionment process.',\n",
            "  'raw_content': None,\n",
            "  'score': 0.9691495,\n",
            "  'title': '2024 United States presidential election - Wikipedia',\n",
            "  'url': 'https://en.wikipedia.org/wiki/2024_United_States_presidential_election'}]\n"
          ]
        }
      ],
      "source": [
        "from tavily import TavilyClient\n",
        "import os\n",
        "import pprint\n",
        "\n",
        "# initializing a Tavily client\n",
        "client = TavilyClient(api_key=os.environ.get('TAVILY_API_KEY'))\n",
        "\n",
        "response = client.search(query='Election 2024 USA')\n",
        "# response\n",
        "pprint.pprint(response['results'])"
      ]
    },
    {
      "cell_type": "markdown",
      "source": [
        "### A BETTER LOOK"
      ],
      "metadata": {
        "id": "Fi3YAgFaCdZM"
      }
    },
    {
      "cell_type": "code",
      "execution_count": null,
      "metadata": {
        "id": "657c7f2f-a13a-4006-99e7-e042b7bf0bc8",
        "colab": {
          "base_uri": "https://localhost:8080/"
        },
        "outputId": "c57770fb-3ffe-4f3f-b2da-a8c3423bc82d"
      },
      "outputs": [
        {
          "output_type": "stream",
          "name": "stdout",
          "text": [
            "Title: Election 2024: Campaign news, presidential polls and results | CNN Politics, URL: https://www.cnn.com/election/2024\n",
            "Title: Election 2024 Polls: Harris vs. Trump - The New York Times, URL: https://www.nytimes.com/interactive/2024/us/elections/polls-president.html\n",
            "Title: Who Is Favored To Win The 2024 Presidential Election?, URL: https://projects.fivethirtyeight.com/2024-election-forecast/\n",
            "Title: 2024 United States elections - Wikipedia, URL: https://en.wikipedia.org/wiki/2024_United_States_elections\n",
            "Title: 2024 United States presidential election - Wikipedia, URL: https://en.wikipedia.org/wiki/2024_United_States_presidential_election\n"
          ]
        }
      ],
      "source": [
        "for result in response['results']:\n",
        "    print(f\"Title: {result['title']}, URL: {result['url']}\")"
      ]
    },
    {
      "cell_type": "markdown",
      "source": [
        "### ADVANCED LOOK: Q & A STYLE"
      ],
      "metadata": {
        "id": "bwi08b73Czrb"
      }
    },
    {
      "cell_type": "code",
      "execution_count": null,
      "metadata": {
        "scrolled": true,
        "id": "c0a77b6a-2578-4bc8-b2f8-72058c6b8612",
        "colab": {
          "base_uri": "https://localhost:8080/",
          "height": 70
        },
        "outputId": "88accbee-b4f1-4758-bb42-9a96c8dbee16"
      },
      "outputs": [
        {
          "output_type": "execute_result",
          "data": {
            "text/plain": [
              "'Based on the most recent data available, the candidates running in the 2024 USA election are former President Donald Trump as the Republican presidential nominee and Vice President Kamala Harris as the Democratic nominee. The polls suggest that Kamala Harris and Donald Trump are within a couple of percentage points of each other both nationally and in battleground states.'"
            ],
            "application/vnd.google.colaboratory.intrinsic+json": {
              "type": "string"
            }
          },
          "metadata": {},
          "execution_count": 20
        }
      ],
      "source": [
        "response = client.search(\n",
        "    query='Who is running in the usa election 2024?',\n",
        "    search_depth='advanced',\n",
        "    max_results=7,\n",
        "    include_images=True,\n",
        "    include_answer=True,\n",
        "    include_raw_content=False\n",
        ")\n",
        "\n",
        "# response\n",
        "# response['results']\n",
        "response['answer']"
      ]
    },
    {
      "cell_type": "markdown",
      "source": [
        "### SIMPLIFIED Q & A"
      ],
      "metadata": {
        "id": "C63VVN5OEJUT"
      }
    },
    {
      "cell_type": "code",
      "execution_count": null,
      "metadata": {
        "id": "dac70237-229d-4c60-973f-aedbb0a1e791",
        "colab": {
          "base_uri": "https://localhost:8080/"
        },
        "outputId": "6ecf50d9-3634-4279-b042-44585b4e38ae"
      },
      "outputs": [
        {
          "output_type": "stream",
          "name": "stdout",
          "text": [
            "('Based on the most recent data available up to December 5, 2023, the polls '\n",
            " 'suggest that the race between Kamala Harris and Donald Trump for the 2024 '\n",
            " 'USA election is very close, with both candidates within a couple of '\n",
            " 'percentage points of each other nationally and in battleground states. '\n",
            " 'Therefore, it is difficult to predict a clear winner at this time.')\n"
          ]
        }
      ],
      "source": [
        "answer = client.qna_search(query='Who will win the USA election 2024?')\n",
        "pprint.pprint(answer)"
      ]
    },
    {
      "cell_type": "markdown",
      "source": [
        "# LET'S WORK WITH THE LLM"
      ],
      "metadata": {
        "id": "XK6Rpz24IINz"
      }
    },
    {
      "cell_type": "code",
      "execution_count": null,
      "metadata": {
        "id": "4b60a94c-6b99-4dc4-b5d3-2399db1b1d28"
      },
      "outputs": [],
      "source": [
        "from langchain_openai import ChatOpenAI\n",
        "\n",
        "query = 'Where is Joe Biden now?'\n",
        "\n",
        "response = client.search(query, max_results=5, search_depth='advanced')['results']\n",
        "response"
      ]
    },
    {
      "cell_type": "markdown",
      "source": [
        "### LET'S SETUP A PROMPT & LLM"
      ],
      "metadata": {
        "id": "gLtejpZvG7f0"
      }
    },
    {
      "cell_type": "code",
      "source": [
        "from langchain.prompts import ChatPromptTemplate\n",
        "from langchain_openai import ChatOpenAI\n",
        "\n",
        "# Setting up the prompt TO BUILD THE RESEARCHER\n",
        "template = \"\"\"You are an AI critical thinker research assistant.\n",
        "Your sole purpose is to write well written, objective and structured reports on given text.\n",
        "\n",
        "Information: \"{response}\"\n",
        "Using the above information, answer the following query: \"{query}\" in a detailed report.\"\"\"\n",
        "\n",
        "# Preparing the prompt with your specific data\n",
        "prompt = ChatPromptTemplate.from_template(template)\n",
        "formatted_prompt = prompt.format(response=response, query=query)\n",
        "\n",
        "# Initializing the model (e.g., GPT-4o)\n",
        "llm = ChatOpenAI(model='gpt-4o')\n",
        "\n",
        "# Getting the result\n",
        "result = llm.invoke(formatted_prompt)\n",
        "print(result.content)\n"
      ],
      "metadata": {
        "id": "syi6D9-pSwFR",
        "colab": {
          "base_uri": "https://localhost:8080/"
        },
        "outputId": "bd380875-fb98-45c5-8e7e-cbf4bb994898"
      },
      "execution_count": null,
      "outputs": [
        {
          "output_type": "stream",
          "name": "stdout",
          "text": [
            "**Report: Current Status and Location of President Joe Biden**\n",
            "\n",
            "**Introduction:**\n",
            "This report aims to provide a detailed analysis of the current status and location of President Joe Biden based on the provided information. The report synthesizes data from various sources to present an objective account of the President's whereabouts and relevant activities.\n",
            "\n",
            "**Current Location:**\n",
            "According to an article from NBC Chicago, President Joe Biden is currently isolated at his Rehoboth, Delaware, beach home. This isolation is due to his recent COVID-19 diagnosis. The information is sourced from a high-confidence document with a score of 0.99448806, indicating high reliability.\n",
            "\n",
            "**Background and Context:**\n",
            "The President's isolation comes amidst his ongoing responsibilities and commitments. As noted in the source from The White House, President Biden has a longstanding political career serving as the U.S. Senator for Delaware for 36 years and as the 47th Vice President of the United States. His administration focuses on key pillars such as the battle for the soul of the nation, rebuilding the middle class, and fostering national unity.\n",
            "\n",
            "**Recent Activities and Initiatives:**\n",
            "While isolated, President Biden continues to engage in significant political discourse and policy initiatives. According to a report from POLITICO, the President has been involved in advocating for U.S. manufacturing benefits and pushing for congressional support for a $60 billion aid package for Ukraine. Additionally, Biden's administration is actively involved in discussions around immigration changes and border security measures.\n",
            "\n",
            "In another context provided by CNN Politics, Biden has been recognized for his strategic initiatives, including the Inflation Reduction Act and efforts to fight terrorism without ground troops in Afghanistan. These activities highlight his continued engagement in policy-making even during periods of isolation.\n",
            "\n",
            "**Conclusion:**\n",
            "President Joe Biden is presently isolated at his Rehoboth, Delaware beach home due to a COVID-19 diagnosis. Despite his physical isolation, he remains actively involved in his presidential duties, engaging in critical policy discussions and initiatives. His administration's focus continues to be on strengthening the economy, addressing international conflicts, and promoting domestic unity and security.\n",
            "\n",
            "**Recommendations for Further Inquiry:**\n",
            "To gain more comprehensive insights into President Biden's activities during his isolation, further monitoring of official communications from the White House and updates from reputable news sources is recommended. Additionally, tracking subsequent public appearances and statements will provide a clearer picture of his ongoing role and engagement in national and international affairs.\n"
          ]
        }
      ]
    },
    {
      "cell_type": "markdown",
      "source": [
        "### THE OPENAI APPROACH"
      ],
      "metadata": {
        "id": "cM7w7mXVTXkL"
      }
    },
    {
      "cell_type": "code",
      "execution_count": null,
      "metadata": {
        "id": "68a7d4d1-41d1-4b3f-86a9-3f9be95cadf0",
        "outputId": "741d3d9e-2d08-4e79-c47a-5ea8913c15d8",
        "colab": {
          "base_uri": "https://localhost:8080/"
        },
        "collapsed": true
      },
      "outputs": [
        {
          "output_type": "execute_result",
          "data": {
            "text/plain": [
              "[SystemMessage(content='You are an AI critical thinker research assistant.\\n        Your sole purpose is to write well written, objective and structured reports on given text.', additional_kwargs={}, response_metadata={}),\n",
              " HumanMessage(content='Information: \"\"\"[{\\'title\\': \\'Where is Joe Biden and where was he last seen? - NBC Chicago\\', \\'url\\': \\'https://www.nbcchicago.com/news/local/where-is-joe-biden-kamala-harris-shares-update-as-president-battles-covid-19/3497549/\\', \\'content\\': \\'Biden, remains isolated at his Rehoboth, Delaware, beach home, where he has been since his COVID-19 diagnosis.\\', \\'score\\': 0.99448806, \\'raw_content\\': None}, {\\'title\\': \\'Joe Biden: The President | The White House\\', \\'url\\': \\'https://www.whitehouse.gov/administration/president-biden/\\', \\'content\\': \\'After leaving the White House, the Bidens continued their efforts to expand opportunity for every American with the creation of the Biden Foundation, the Biden Cancer Initiative, the Penn Biden Center for Diplomacy and Global Engagement, and the Biden Institute at the University of Delaware.\\\\n Mobile Menu Overlay\\\\nThe White House\\\\n1600 Pennsylvania Ave NW\\\\nWashington, DC 20500\\\\nJoe\\\\xa0Biden\\\\nThe President\\\\nNavigate this Section\\\\nDownload Official Portrait\\\\nPresident Biden represented Delaware for 36 years in the U.S. Senate before becoming the 47th Vice President of the United States. As Chairman or Ranking Member of the Senate Judiciary Committee for 16 years, Biden is widely recognized for his work writing and spearheading the Violence Against Women Act\\\\xa0 — the landmark legislation that strengthens penalties for violence against women, creates unprecedented resources for survivors of assault, and changes the national dialogue on domestic and sexual assault.\\\\n Biden helped President Obama pass and then oversaw the implementation of the Recovery Act — the biggest economic recovery plan in the history of the nation and our biggest and strongest commitment to clean energy. Biden’s candidacy was built from the beginning around 3 pillars: the battle for the soul of our nation, the need to rebuild our middle class — the backbone of our country, and a call for unity, to act as One America.\\', \\'score\\': 0.9539661, \\'raw_content\\': None}, {\\'title\\': \"Highlights from Biden\\'s first address to joint session of Congress\", \\'url\\': \\'https://www.nbcnews.com/politics/joe-biden/live-blog/live-updates-biden-set-give-first-address-joint-session-congress-n1265551\\', \\'content\\': \"President Joe Biden delivered his first joint address to Congress on Wednesday, outlining his vision for the country and speaking to what he sees as his administration\\'s initial accomplishments as he approaches 100 days in office.\", \\'score\\': 0.6808786, \\'raw_content\\': None}, {\\'title\\': \\'Joe Biden: Latest News, Top Stories & Analysis - POLITICO\\', \\'url\\': \\'https://www.politico.com/news/joe-biden\\', \\'content\\': \"POLITICO\\\\nPolitico Logo\\\\nWASHINGTON & POLITICS\\\\n2024 ELECTIONS\\\\nSTATE POLITICS & POLICY\\\\nGLOBAL POLITICS & POLICY\\\\nPOLICY NEWS\\\\nNEWSLETTERS\\\\nCOLUMNISTS\\\\nSERIES & MORE\\\\nPOLITICO Live\\\\nFollow us\\\\nJoe Biden\\\\nNews, Analysis and Opinion from POLITICO\\\\nDemocratic cities and states are in support of some type of border security measure as Congress debates whether to include immigration changes in a spending package next month. Another official suggested that Biden’s aside, made in response to a reporter’s question, was less about siding with progressive sentiment and more a window into his private frustrations with Israeli Prime Minister Benjamin Netanyahu.\\\\nRead More »\\\\nJohnson on Biden impeachment: \\'You don\\'t rush something like this\\'\\\\n11/29/2023 12:13 PM EST\\\\nRead More »\\\\nDuring an Oval Office address last month, President Joe Biden highlighted the benefit to U.S. manufacturing centers when making the case that Republicans should support the $60 billion for Ukraine contained in the $106 billion emergency supplemental. But achieving a so-called soft landing might not mean a lick to voters\\\\nWhen it comes to Biden and the economy, it’s possible that “people have just rendered a judgment and are not revisiting the judgment,” said James Carville, the Democratic campaign guru who made “it’s the economy, stupid” the unofficial motto of Bill Clinton’s 1992 presidential campaign.\\\\n Read More »\\\\nGOP presidential hopeful Nikki Haley speaks during a campaign event on Monday, Nov. 27, 2023, in Bluffton, S.C. | Meg Kinnard/AP\\\\nElections\\\\nIn South Carolina homecoming, Haley’s ‘town hall’ turns into a full-blown rally\\\\nThe former South Carolina governor is still running far behind Donald Trump in the state.\\\\n The circulation of the graphic is part of the administration’s push to sell the American public — and their congressional representatives — on President Joe Biden’s proposal to spend billions of additional taxpayer dollars on the wars in Ukraine and Israel.\\\\n\", \\'score\\': 0.62977463, \\'raw_content\\': None}, {\\'title\\': \\'The same Joe Biden suddenly looks different | CNN Politics\\', \\'url\\': \\'https://www.cnn.com/2022/08/14/politics/president-biden-winning-streak/index.html\\', \\'content\\': \\'Republicans need just a four-seat net gain – well below the historical average for the party not holding the White House – to recapture control of the House.\\\\n The precision strike, the planning of which began this past spring, vindicated Biden’s assertions that the US could fight terrorism in Afghanistan even without troops on the ground.\\\\n To act alone on the small number of top-priority initiatives shielded from Republican filibuster, Democrats can sustain only a few defections in the House and none in the Senate. Democrats on the 2022 ballot have gained more ground from anger over the conservative Supreme Court’s decision to end the constitutional right to abortion.\\\\n The Inflation Reduction Act – named to lure Manchin though it will have negligible impact on inflation this year – means Medicare beneficiaries will pay no more than $35 per month for insulin and no more than $2,000 per year in out-of-pocket drug costs.\\', \\'score\\': 0.54955, \\'raw_content\\': None}]\"\"\"\\n        Using the above information, answer the following query: \"\"\"Where is Joe Biden now?\"\"\" in a detailed report', additional_kwargs={}, response_metadata={})]"
            ]
          },
          "metadata": {},
          "execution_count": 24
        }
      ],
      "source": [
        "from langchain.adapters.openai import convert_openai_messages\n",
        "\n",
        "# BUILDING THE RESEARCHER\n",
        "prompt = [\n",
        "    {\n",
        "        'role': 'system',\n",
        "        'content': f'''You are an AI critical thinker research assistant.\n",
        "        Your sole purpose is to write well written, objective and structured reports on given text.'''\n",
        "    },\n",
        "    {\n",
        "        'role': 'user',\n",
        "        'content': f'''Information: \"\"\"{response}\"\"\"\n",
        "        Using the above information, answer the following query: \"\"\"{query}\"\"\" in a detailed report'''\n",
        "    }\n",
        "]\n",
        "\n",
        "lc_messages = convert_openai_messages(prompt)\n",
        "lc_messages"
      ]
    },
    {
      "cell_type": "markdown",
      "source": [
        "### LET'S USE THIS IN LANGCHAIN"
      ],
      "metadata": {
        "id": "sw4zLi8lLzz6"
      }
    },
    {
      "cell_type": "code",
      "execution_count": null,
      "metadata": {
        "id": "a86bda9a-4b75-4a77-ace3-ab73a8dfbb96",
        "colab": {
          "base_uri": "https://localhost:8080/"
        },
        "collapsed": true,
        "outputId": "ef488862-297f-46f4-ce3d-9732724aecd9"
      },
      "outputs": [
        {
          "output_type": "stream",
          "name": "stdout",
          "text": [
            "### Report: Current Location of President Joe Biden\n",
            "\n",
            "#### Introduction\n",
            "This report aims to provide an objective analysis of the current whereabouts of President Joe Biden based on the provided information. The focus is on determining his location and any relevant context surrounding his activities.\n",
            "\n",
            "#### Current Location\n",
            "Based on the information extracted from the sources, President Joe Biden is currently isolated at his Rehoboth, Delaware, beach home. This isolation is due to his recent COVID-19 diagnosis, as reported by NBC Chicago. The report underscores that he has been at this location since the diagnosis was confirmed.\n",
            "\n",
            "#### Context and Implications\n",
            "- **Health Status**: The isolation indicates adherence to health protocols following a COVID-19 diagnosis. This measure is likely aimed at preventing the spread of the virus and ensuring the President's recovery in a controlled environment.\n",
            "  \n",
            "- **Location Significance**: Rehoboth Beach, Delaware, is a location of personal significance to President Biden, serving as a retreat away from his official duties. This setting might provide a comfortable and familiar environment conducive to rest and recuperation.\n",
            "\n",
            "- **Official Duties**: Although isolated, it is plausible that President Biden continues to manage his responsibilities remotely. Modern communication technology allows for continuity of governance even when physical presence in Washington, D.C., is not possible.\n",
            "\n",
            "#### Analysis of Related Information\n",
            "The broader context of President Biden's activities and initiatives, as outlined in the provided documents, includes:\n",
            "\n",
            "- **Historical Contributions**: President Biden's past contributions, such as the Violence Against Women Act and his role in the economic recovery plan during the Obama administration, highlight his long-standing engagement in policy-making and governance.\n",
            "\n",
            "- **Recent Political Engagements**: There have been mentions of his involvement in discussions about border security measures and economic strategies, indicating active participation in current political debates.\n",
            "\n",
            "- **Public Addresses**: President Biden has recently delivered addresses to Congress and participated in discussions regarding immigration and international aid, specifically concerning Ukraine and Israel.\n",
            "\n",
            "#### Conclusion\n",
            "As of the latest available information, President Joe Biden is isolating at his Rehoboth Beach home in Delaware due to a COVID-19 diagnosis. Despite this, it is reasonable to infer that he remains engaged in his presidential duties to some extent, leveraging remote communication tools. The situation underscores the adaptability of modern governance in response to health challenges and personal circumstances.\n",
            "\n",
            "#### References\n",
            "- NBC Chicago report on Biden's isolation at Rehoboth Beach due to COVID-19.\n",
            "- General background on Biden's political career and ongoing contributions, sourced from White House and POLITICO content.\n"
          ]
        }
      ],
      "source": [
        "response = ChatOpenAI(model='gpt-4o').invoke(lc_messages)\n",
        "print(response.content)"
      ]
    },
    {
      "cell_type": "markdown",
      "source": [
        "# LET'S ENHANCE OUR CHATBOT"
      ],
      "metadata": {
        "id": "8eOPk2jdWNtp"
      }
    },
    {
      "cell_type": "markdown",
      "source": [
        "### CREATE THE TOOLS"
      ],
      "metadata": {
        "id": "XfWOPfIxWdva"
      }
    },
    {
      "cell_type": "code",
      "execution_count": null,
      "metadata": {
        "id": "ac95aef7-cd9c-4dbf-aaa1-3c54af522e37"
      },
      "outputs": [],
      "source": [
        "# defining the tools\n",
        "from langchain_community.tools.tavily_search import TavilySearchResults\n",
        "\n",
        "tool = TavilySearchResults(max_results=3)\n",
        "tools = [tool]"
      ]
    },
    {
      "cell_type": "markdown",
      "source": [
        "### INVOKE THE TOOL"
      ],
      "metadata": {
        "id": "O3ZGYIZLXJvh"
      }
    },
    {
      "cell_type": "code",
      "execution_count": null,
      "metadata": {
        "scrolled": true,
        "id": "a774c189-c49d-4e1e-a3d0-905b22c1400a",
        "colab": {
          "base_uri": "https://localhost:8080/"
        },
        "collapsed": true,
        "outputId": "08424d1c-602b-4f88-c2b1-d01aa919d97b"
      },
      "outputs": [
        {
          "output_type": "execute_result",
          "data": {
            "text/plain": [
              "[{'url': 'https://www.cnn.com/interactive/2024/politics/presidential-candidates-dg/',\n",
              "  'content': '2024 Presidential Candidates. By CNN Staff. Updated September 10, 2024. Former President Donald Trump is the Republican presidential nominee and Vice President Kamala Harris is the Democratic'},\n",
              " {'url': 'https://www.bbc.com/news/articles/cj4x71znwxdo',\n",
              "  'content': 'US election polls 2024: Who is ahead - Harris or Trump? US election polls: Who is ahead - Harris or Trump? In a sign of how the race has changed since Harris became the Democratic nominee, on the day Joe Biden quit the race he was trailing Trump by nearly five percentage points on average in these seven battleground states. At the moment, the polls suggest that Kamala Harris and Donald Trump are within a couple of percentage points of each other both nationally and in battleground states - and when the race is that close, it’s very hard to predict winners. Read more about: Kamala Harris | Donald Trump | US election'},\n",
              " {'url': 'https://www.nytimes.com/interactive/2023/us/politics/presidential-candidates-2024.html',\n",
              "  'content': 'Dean Phillips, a moderate Democrat elected to the House in 2018, has few major policy disagreements with President Biden and has supported his agenda in Congress, but argues that Mr. Biden’s age and low approval ratings mean the party should nominate someone else.\\nRepublicans\\nRead more: Candidates on the issues ›\\nFormer President Donald J. Trump is running to retake the office he lost in 2020, then denied losing to the point of inciting a mob of his supporters to attack the United States Capitol.\\n By Martín González Gómez and Maggie AstorUpdated Nov. 12, 2023\\nDemocrats\\nRepublicans\\nIndependent and third-party\\nDropped out\\nNot running\\nBy Martín González Gómez and Maggie Astor\\n More about the candidates\\nDemocrats\\nPresident Biden has cast himself as a protector of democracy and a stabilizing force after the upheaval of the Trump administration.\\n Nikki Haley, a former governor of South Carolina and United Nations ambassador under Mr. Trump, has presented herself as a member of “a new generation of leadership” and emphasized her life experience as a daughter of Indian immigrants.\\n Mr. Trump is far ahead of any of his challengers in polls — partly because the fractured field has made it hard for voters to coalesce around a single alternative, and partly because of the tight hold he still exerts on the party’s base.\\n'}]"
            ]
          },
          "metadata": {},
          "execution_count": 27
        }
      ],
      "source": [
        "response = tool.invoke('Who is running in USA election 2024?')\n",
        "response"
      ]
    },
    {
      "cell_type": "markdown",
      "source": [
        "# THE NEW GRAPH\n"
      ],
      "metadata": {
        "id": "a0uIVofqYCxB"
      }
    },
    {
      "cell_type": "code",
      "execution_count": null,
      "metadata": {
        "id": "a01d1629-a633-4c24-9233-5130751abcb9"
      },
      "outputs": [],
      "source": [
        "from langgraph.graph import StateGraph\n",
        "from typing import Annotated\n",
        "from typing_extensions import TypedDict\n",
        "from langgraph.graph.message import add_messages\n",
        "from langchain_openai import ChatOpenAI\n",
        "\n",
        "# NEW IMPORT\n",
        "from langchain_community.tools.tavily_search import TavilySearchResults\n",
        "from langgraph.prebuilt import ToolNode, tools_condition\n",
        "\n",
        "class State(TypedDict):\n",
        "    messages: Annotated[list, add_messages]\n",
        "\n",
        "graph_builder = StateGraph(State)\n",
        "\n",
        "tool = TavilySearchResults(max_results=3)\n",
        "tools = [tool]\n",
        "\n",
        "llm = ChatOpenAI(model_name='gpt-4o', temperature=0.5)\n",
        "\n",
        "# tell the LLM which tools it can call\n",
        "llm_with_tools = llm.bind_tools(tools)\n",
        "\n",
        "# change the chatbot() node function. Use llm_with_tools instead of llm.\n",
        "def chatbot(state: State):\n",
        "    # NEWLY EDITED\n",
        "    return {\"messages\": [llm_with_tools.invoke(state[\"messages\"])]}\n",
        "\n",
        "graph_builder.add_node(\"chatbot\", chatbot)\n",
        "\n",
        "# NEWLY ADDED:\n",
        "# run the tools if they are called by adding the tools to a new node.\n",
        "# This node runs the tools requested in the last AIMessage.\n",
        "tool_node = ToolNode(tools=[tool])\n",
        "graph_builder.add_node(\"tools\", tool_node)\n",
        "# ---\n",
        "\n",
        "# NEWLY ADDED\n",
        "# define the conditional_edges.\n",
        "# we'll use the prebuilt tools_condition in the conditional_edge to route to the ToolNode if the last message has tool calls,\n",
        "# otherwise, route to the end.\n",
        "graph_builder.add_conditional_edges(\n",
        "    \"chatbot\",\n",
        "    tools_condition,\n",
        ")\n",
        "# ---\n",
        "\n",
        "# any time a tool is called, we return to the chatbot to decide the next step\n",
        "graph_builder.add_edge(\"tools\", \"chatbot\")\n",
        "\n",
        "graph_builder.set_entry_point(\"chatbot\")\n",
        "\n",
        "# we don't need to explicitly set a finish_point because our graph already has a way to finish!\n",
        "# graph_builder.set_finish_point(\"chatbot\")\n",
        "\n",
        "graph = graph_builder.compile()"
      ]
    },
    {
      "cell_type": "markdown",
      "source": [
        "### LET'S VISUALIZE THE GRAPH"
      ],
      "metadata": {
        "id": "YHm3qSyqq1rv"
      }
    },
    {
      "cell_type": "code",
      "execution_count": null,
      "metadata": {
        "id": "71c47170-d408-42ba-a590-afc0c03f306a",
        "colab": {
          "base_uri": "https://localhost:8080/",
          "height": 266
        },
        "outputId": "4ea8eedf-c731-4a86-8be3-3fb268f10a88"
      },
      "outputs": [
        {
          "output_type": "display_data",
          "data": {
            "image/jpeg": "[encoded data removed]",
            "text/plain": [
              "<IPython.core.display.Image object>"
            ]
          },
          "metadata": {}
        }
      ],
      "source": [
        "# Let's visualize the graph we've built.\n",
        "from IPython.display import Image, display\n",
        "display(Image(graph.get_graph().draw_mermaid_png()))\n"
      ]
    },
    {
      "cell_type": "markdown",
      "source": [
        "# THE CHATBOT"
      ],
      "metadata": {
        "id": "2Iza-xHsrQoH"
      }
    },
    {
      "cell_type": "code",
      "execution_count": null,
      "metadata": {
        "scrolled": true,
        "id": "cf3fd46a-9894-4c49-8d17-5c7323e5fc03",
        "colab": {
          "base_uri": "https://localhost:8080/"
        },
        "outputId": "e4de8ac4-1266-461e-de6a-592cc4f9b74b"
      },
      "outputs": [
        {
          "output_type": "stream",
          "name": "stdout",
          "text": [
            "User: who are the presidential candidates in 2024 usa election now\n",
            "Assistant:  \n",
            "--------------------------------------------------\n",
            "Assistant:  [{\"url\": \"https://www.cnn.com/interactive/2024/politics/presidential-candidates-dg/\", \"content\": \"2024 Presidential Candidates. By CNN Staff. Updated October 21, 2024. Former President Donald Trump is the Republican presidential nominee and Vice President Kamala Harris is the Democratic nominee.\"}, {\"url\": \"https://ballotpedia.org/Presidential_candidates,_2024\", \"content\": \"The following candidates have qualified to appear on five or more Democratic primary ballots:\\nRepublican candidates\\nThe following candidates have qualified to appear on five or more Republican primary ballots:\\nComparison of announcement timelines in previous cycles\\nThe chart below shows noteworthy presidential campaign announcements in the odd years before the 2016, 2020, and 2024 presidential elections.\\n Email *\\nFirst Name *\\nLast Name\\nPlease complete the Captcha above\\nShare this page\\nFollow Ballotpedia\\nShare this page\\nFollow Ballotpedia\\nPresidential candidates, 2024\\n Democratic politicians\\nIndependent politicians\\nDemocratic business executives and public figures\\nRepublican politicians\\nRepublican business executives and public figures\\nDid not run for the Republican nomination\\nList of registered 2024 presidential candidates\\n Information about voting\\n2023 Elections\\n2024 Elections\\nAnalysis\\nPublic Policy\\nInformation for candidates\\nGet Engaged\\nServices\\nTrending\\nSITE NAVIGATION Democratic candidates\\nRepublican candidates\\nThird party or independent candidates\\nCandidates on 5 or more primary ballots\\nDemocratic candidates\\n\"}, {\"url\": \"https://www.nytimes.com/interactive/2023/us/politics/presidential-candidates-2024.html\", \"content\": \"Dean Phillips, a moderate Democrat elected to the House in 2018, has few major policy disagreements with President Biden and has supported his agenda in Congress, but argues that Mr. Biden’s age and low approval ratings mean the party should nominate someone else.\\nRepublicans\\nRead more: Candidates on the issues ›\\nFormer President Donald J. Trump is running to retake the office he lost in 2020, then denied losing to the point of inciting a mob of his supporters to attack the United States Capitol.\\n By Martín González Gómez and Maggie AstorUpdated Nov. 12, 2023\\nDemocrats\\nRepublicans\\nIndependent and third-party\\nDropped out\\nNot running\\nBy Martín González Gómez and Maggie Astor\\n More about the candidates\\nDemocrats\\nPresident Biden has cast himself as a protector of democracy and a stabilizing force after the upheaval of the Trump administration.\\n Nikki Haley, a former governor of South Carolina and United Nations ambassador under Mr. Trump, has presented herself as a member of “a new generation of leadership” and emphasized her life experience as a daughter of Indian immigrants.\\n Mr. Trump is far ahead of any of his challengers in polls — partly because the fractured field has made it hard for voters to coalesce around a single alternative, and partly because of the tight hold he still exerts on the party’s base.\\n\"}]\n",
            "--------------------------------------------------\n",
            "Assistant:  As of now, the main presidential candidates for the 2024 U.S. election are:\n",
            "\n",
            "- **Republican Nominee**: Former President Donald Trump\n",
            "- **Democratic Nominee**: Vice President Kamala Harris\n",
            "\n",
            "These candidates have emerged as the primary nominees from their respective parties.\n",
            "--------------------------------------------------\n",
            "User: Tell me more about this...\n",
            "Assistant:  Could you please provide more context or specify what you would like to know more about?\n",
            "--------------------------------------------------\n",
            "User: bye\n",
            "Goodbye!\n"
          ]
        }
      ],
      "source": [
        "while True:\n",
        "    user_input = input('User: ')\n",
        "    if user_input.lower() in ['quit', 'exit', 'bye',  'q']:\n",
        "        print('Goodbye!')\n",
        "        break\n",
        "\n",
        "    for event in graph.stream({'messages': ('user', user_input)}):\n",
        "        for value in event.values():\n",
        "            print('Assistant: ', value['messages'][-1].content)\n",
        "        print('-' * 50)\n",
        "\n"
      ]
    },
    {
      "cell_type": "markdown",
      "source": [
        "# ADDING MEMORY"
      ],
      "metadata": {
        "id": "6BdL7ytsuuhI"
      }
    },
    {
      "cell_type": "code",
      "execution_count": null,
      "metadata": {
        "id": "84ae5d62-1342-46e6-9188-99878eaabd4d"
      },
      "outputs": [],
      "source": [
        "!pip install -q langgraph-checkpoint-sqlite"
      ]
    },
    {
      "cell_type": "markdown",
      "source": [
        "### MEMORY ADDED TO THE GRAPH"
      ],
      "metadata": {
        "id": "Ng7fBqhIu9AG"
      }
    },
    {
      "cell_type": "code",
      "execution_count": null,
      "metadata": {
        "id": "3b12114d-2b9c-44ec-90ef-be5a672a322a"
      },
      "outputs": [],
      "source": [
        "from langgraph.checkpoint.sqlite import SqliteSaver\n",
        "from langgraph.checkpoint.memory import MemorySaver\n",
        "\n",
        "memory = SqliteSaver.from_conn_string(':memory:')\n",
        "graph = graph_builder.compile(checkpointer=MemorySaver()) # ADDING MEMORY\n"
      ]
    },
    {
      "cell_type": "markdown",
      "source": [
        "### THE CHATBOT WITH MEMORY"
      ],
      "metadata": {
        "id": "yb_rr7FrvfFf"
      }
    },
    {
      "cell_type": "code",
      "execution_count": null,
      "metadata": {
        "scrolled": true,
        "id": "veC4TFK4vnrf",
        "colab": {
          "base_uri": "https://localhost:8080/"
        },
        "outputId": "eda28d2c-4c4a-4a2e-9eb1-984baf0fff12"
      },
      "outputs": [
        {
          "output_type": "stream",
          "name": "stdout",
          "text": [
            "User: hi i am rambo\n",
            "Assistant:  Hello Rambo! How can I assist you today?\n",
            "--------------------------------------------------\n",
            "User: does my name ring a bell\n",
            "Assistant:  Yes, the name \"Rambo\" is quite iconic! It is most famously associated with the fictional character John Rambo, played by Sylvester Stallone in the \"Rambo\" film series. The character is a former Green Beret and Vietnam War veteran known for his combat skills and survival abilities. Is there something specific you'd like to know or discuss about Rambo?\n",
            "--------------------------------------------------\n",
            "User: who are the presidential candidates in 2024 usa election now\n",
            "Assistant:  \n",
            "--------------------------------------------------\n",
            "Assistant:  [{\"url\": \"https://www.cnn.com/interactive/2024/politics/presidential-candidates-dg/\", \"content\": \"2024 Presidential Candidates. By CNN Staff. Updated October 21, 2024. Former President Donald Trump is the Republican presidential nominee and Vice President Kamala Harris is the Democratic nominee.\"}, {\"url\": \"https://ballotpedia.org/Presidential_candidates,_2024\", \"content\": \"The following candidates have qualified to appear on five or more Democratic primary ballots:\\nRepublican candidates\\nThe following candidates have qualified to appear on five or more Republican primary ballots:\\nComparison of announcement timelines in previous cycles\\nThe chart below shows noteworthy presidential campaign announcements in the odd years before the 2016, 2020, and 2024 presidential elections.\\n Email *\\nFirst Name *\\nLast Name\\nPlease complete the Captcha above\\nShare this page\\nFollow Ballotpedia\\nShare this page\\nFollow Ballotpedia\\nPresidential candidates, 2024\\n Democratic politicians\\nIndependent politicians\\nDemocratic business executives and public figures\\nRepublican politicians\\nRepublican business executives and public figures\\nDid not run for the Republican nomination\\nList of registered 2024 presidential candidates\\n Information about voting\\n2023 Elections\\n2024 Elections\\nAnalysis\\nPublic Policy\\nInformation for candidates\\nGet Engaged\\nServices\\nTrending\\nSITE NAVIGATION Democratic candidates\\nRepublican candidates\\nThird party or independent candidates\\nCandidates on 5 or more primary ballots\\nDemocratic candidates\\n\"}, {\"url\": \"https://www.bbc.com/news/articles/cj4x71znwxdo\", \"content\": \"US election polls 2024: Who is ahead - Harris or Trump? US election polls: Who is ahead - Harris or Trump? In a sign of how the race has changed since Harris became the Democratic nominee, on the day Joe Biden quit the race he was trailing Trump by nearly five percentage points on average in these seven battleground states. At the moment, the polls suggest that Kamala Harris and Donald Trump are within a couple of percentage points of each other both nationally and in battleground states - and when the race is that close, it’s very hard to predict winners. Read more about: Kamala Harris | Donald Trump | US election\"}]\n",
            "--------------------------------------------------\n",
            "Assistant:  As of now, the main presidential candidates for the 2024 United States election are:\n",
            "\n",
            "- **Donald Trump**: He is the Republican presidential nominee and a former President of the United States.\n",
            "- **Kamala Harris**: She is the Democratic presidential nominee and the current Vice President of the United States.\n",
            "\n",
            "These candidates are the primary contenders from the two major political parties in the U.S. for the 2024 election.\n",
            "--------------------------------------------------\n",
            "User: plz tell me a bit more about them\n",
            "Assistant:  Certainly! Here's a bit more about each candidate:\n",
            "\n",
            "### Donald Trump\n",
            "- **Background**: Donald Trump served as the 45th President of the United States from January 20, 2017, to January 20, 2021. Before his presidency, he was a businessman and television personality, best known for his real estate ventures and his role on the reality TV show \"The Apprentice.\"\n",
            "- **Political Stance**: As a Republican, Trump is known for his \"America First\" policy, focusing on immigration reform, tax cuts, deregulation, and a strong national defense. His presidency was marked by significant economic growth, but also controversies and impeachments.\n",
            "- **2024 Campaign**: Trump is running on a platform that emphasizes economic revival, immigration control, and restoring what he describes as \"law and order.\"\n",
            "\n",
            "### Kamala Harris\n",
            "- **Background**: Kamala Harris is the current Vice President of the United States, serving since January 20, 2021. She previously served as a U.S. Senator from California and as the Attorney General of California.\n",
            "- **Political Stance**: Harris is a member of the Democratic Party and is known for her progressive stance on issues such as healthcare reform, climate change, and criminal justice reform. She has been an advocate for civil rights and social justice throughout her career.\n",
            "- **2024 Campaign**: Harris's campaign focuses on continuing the policies of the Biden administration, emphasizing healthcare, education, and climate change, as well as addressing social inequalities and expanding voting rights.\n",
            "\n",
            "Both candidates have significant political experience and are well-known figures in American politics. The 2024 election is expected to be highly competitive, with both candidates having strong support bases.\n",
            "--------------------------------------------------\n",
            "User: bye\n",
            "Goodbye!\n"
          ]
        }
      ],
      "source": [
        "\n",
        "while True:\n",
        "\n",
        "    user_input = input('User: ')\n",
        "    if user_input.lower() in ['quit', 'exit', 'bye',  'q']:\n",
        "        print('Goodbye!')\n",
        "        break\n",
        "\n",
        "    config = {'configurable': {'thread_id': '1'}}\n",
        "\n",
        "    # response = graph.invoke({'messages': ('user', user_input)}, config=config)\n",
        "    # print('Assistant: ', response['messages'][-1].content)\n",
        "    # print('-' * 50)\n",
        "\n",
        "    for event in graph.stream({'messages': ('user', user_input)}, config=config):\n",
        "      for value in event.values():\n",
        "          print('Assistant: ', value['messages'][-1].content)\n",
        "      print('-' * 50)\n"
      ]
    }
  ]
}