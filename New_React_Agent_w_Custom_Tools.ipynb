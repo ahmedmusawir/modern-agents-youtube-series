{
  "nbformat": 4,
  "nbformat_minor": 0,
  "metadata": {
    "colab": {
      "provenance": [],
      "authorship_tag": "ABX9TyPzwZklWzDp7puoRKm8jENm",
      "include_colab_link": true
    },
    "kernelspec": {
      "name": "python3",
      "display_name": "Python 3"
    },
    "language_info": {
      "name": "python"
    }
  },
  "cells": [
    {
      "cell_type": "markdown",
      "metadata": {
        "id": "view-in-github",
        "colab_type": "text"
      },
      "source": [
        "<a href=\"https://colab.research.google.com/github/ahmedmusawir/modern-agents-youtube-series/blob/main/New_React_Agent_w_Custom_Tools.ipynb\" target=\"_parent\"><img src=\"https://colab.research.google.com/assets/colab-badge.svg\" alt=\"Open In Colab\"/></a>"
      ]
    },
    {
      "cell_type": "markdown",
      "source": [
        "## Installation"
      ],
      "metadata": {
        "id": "g5nM2yGeIo-B"
      }
    },
    {
      "cell_type": "code",
      "execution_count": null,
      "metadata": {
        "id": "Ao8zTep7GZSl",
        "colab": {
          "base_uri": "https://localhost:8080/"
        },
        "outputId": "dd2d5cba-7875-4f97-8e9d-bc22d0e09727"
      },
      "outputs": [
        {
          "output_type": "stream",
          "name": "stdout",
          "text": [
            "Name: langchain\n",
            "Version: 0.3.2\n",
            "Summary: Building applications with LLMs through composability\n",
            "Home-page: https://github.com/langchain-ai/langchain\n",
            "Author: \n",
            "Author-email: \n",
            "License: MIT\n",
            "Location: /usr/local/lib/python3.10/dist-packages\n",
            "Requires: aiohttp, async-timeout, langchain-core, langchain-text-splitters, langsmith, numpy, pydantic, PyYAML, requests, SQLAlchemy, tenacity\n",
            "Required-by: langchain-community\n"
          ]
        }
      ],
      "source": [
        "!pip install -q langchain\n",
        "!pip install -q langchain_openai\n",
        "!pip install -q langchain_community\n",
        "!pip install -q langchain-experimental\n",
        "!pip install -q langgraph\n",
        "!pip install -q duckduckgo-search\n",
        "!pip install -q wikipedia\n",
        "\n",
        "!pip show langchain"
      ]
    },
    {
      "cell_type": "markdown",
      "source": [
        "## OpenAI Key Setup"
      ],
      "metadata": {
        "id": "bOCHjYfyI8wh"
      }
    },
    {
      "cell_type": "code",
      "source": [
        "import os\n",
        "from google.colab import userdata\n",
        "\n",
        "os.environ[\"OPENAI_API_KEY\"] = userdata.get('OPENAI_API_KEY')\n"
      ],
      "metadata": {
        "id": "V5V_YntP3aw6"
      },
      "execution_count": null,
      "outputs": []
    },
    {
      "cell_type": "markdown",
      "source": [
        "## Model Testing"
      ],
      "metadata": {
        "id": "mRUKCyf5KF0a"
      }
    },
    {
      "cell_type": "code",
      "source": [
        "from langchain_openai import ChatOpenAI\n",
        "import pprint\n",
        "import logging\n",
        "\n",
        "# Set logging level to ERROR to suppress warnings and info logs\n",
        "logging.getLogger(\"langchain_core\").setLevel(logging.ERROR)\n",
        "\n",
        "# Create an instance of the OpenAI class\n",
        "llm = ChatOpenAI(model=\"gpt-4o\")\n",
        "\n",
        "# Generate text\n",
        "prompt = \"Who is Trump (in one sentence)\"\n",
        "response = llm.invoke(prompt)\n",
        "# print(response)\n",
        "pprint.pprint(response.content)"
      ],
      "metadata": {
        "id": "ksDqOR9JX9jc",
        "colab": {
          "base_uri": "https://localhost:8080/"
        },
        "outputId": "e7c0fc1f-d35e-4367-b72a-4747eaa1b1cb"
      },
      "execution_count": null,
      "outputs": [
        {
          "output_type": "stream",
          "name": "stdout",
          "text": [
            "('Donald Trump is an American businessman, television personality, and '\n",
            " 'politician who served as the 45th President of the United States from 2017 '\n",
            " 'to 2021.')\n"
          ]
        }
      ]
    },
    {
      "cell_type": "markdown",
      "source": [
        "# NEW RE-ACT AGENT"
      ],
      "metadata": {
        "id": "baVTK6o-9B63"
      }
    },
    {
      "cell_type": "markdown",
      "source": [
        "## THE TOOLS"
      ],
      "metadata": {
        "id": "VLV5Ruo09Nae"
      }
    },
    {
      "cell_type": "code",
      "source": [
        "# Import the required modules\n",
        "import wikipedia\n",
        "import pprint\n",
        "from langchain_core.tools import tool\n",
        "from langchain_community.utilities import DuckDuckGoSearchAPIWrapper\n",
        "\n",
        "# Define the tool for DuckDuckGo search\n",
        "@tool\n",
        "def search_duckduckgo(query: str) -> str:\n",
        "    \"\"\"Search DuckDuckGo for a given query and return the first result snippet.\"\"\"\n",
        "    wrapper = DuckDuckGoSearchAPIWrapper(max_results=1)  # Customize max_results as needed\n",
        "    # results = wrapper.results(query)\n",
        "    results = wrapper.results(query=query, max_results=1)\n",
        "    if results:\n",
        "        result = results[0]  # Get the first result\n",
        "        return f\"Title: {result['title']}\\nSnippet: {result['snippet']}\\nLink: {result['link']}\"\n",
        "    return \"No results found.\"\n",
        "\n",
        "# Successfully tested the tool\n",
        "# duck_result = search_duckduckgo.invoke(\"Donald Trump\")\n",
        "# pprint.pprint(duck_result)\n",
        "\n",
        "# Import the required modules for Wikipedia search\n",
        "from langchain_community.tools import WikipediaQueryRun\n",
        "from langchain_community.utilities import WikipediaAPIWrapper\n",
        "from langchain_core.tools import tool\n",
        "\n",
        "# Define the Wikipedia search tool\n",
        "@tool\n",
        "def search_wikipedia(query: str) -> str:\n",
        "    \"\"\"Search Wikipedia for a given query and return a summary.\"\"\"\n",
        "    wikipedia = WikipediaQueryRun(api_wrapper=WikipediaAPIWrapper())\n",
        "    return wikipedia.run(query)\n",
        "\n",
        "# Successfully tested the tool\n",
        "wiki_result = search_wikipedia.invoke(\"Donald Trump\")\n",
        "print(\"WIKI RESULT\", wiki_result)\n",
        "\n",
        "\n"
      ],
      "metadata": {
        "id": "6O7-Ui0LFKVH",
        "collapsed": true
      },
      "execution_count": null,
      "outputs": []
    },
    {
      "cell_type": "markdown",
      "source": [
        "## CUSTOM VERBOSE UTILITY"
      ],
      "metadata": {
        "id": "g0M33REdC4rO"
      }
    },
    {
      "cell_type": "code",
      "source": [
        "from langchain_core.messages import HumanMessage, AIMessage, ToolMessage\n",
        "# from pprint import pprint\n",
        "\n",
        "def parse_agent_messages(messages):\n",
        "    for msg in messages:\n",
        "        if isinstance(msg, HumanMessage):\n",
        "            print(f\"User: {msg.content}\\n\")\n",
        "        elif isinstance(msg, AIMessage):\n",
        "            if 'tool_calls' in msg.additional_kwargs and msg.additional_kwargs['tool_calls']:\n",
        "                print(\"Agent is deciding to use tools...\\n\")\n",
        "                for tool_call in msg.additional_kwargs['tool_calls']:\n",
        "                    tool_name = tool_call['function']['name']\n",
        "                    arguments = tool_call['function']['arguments']\n",
        "                    print(f\"Agent calls tool: {tool_name} with arguments {arguments}\\n\")\n",
        "            else:\n",
        "                print(f\"Agent's Final Response:\\n{msg.content}\\n\")\n",
        "        elif isinstance(msg, ToolMessage):\n",
        "            tool_name = msg.name\n",
        "            print(f\"Tool [{tool_name}] Response:\\n{msg.content}\\n\")\n",
        "        else:\n",
        "            print(f\"Unknown message type: {msg}\\n\")"
      ],
      "metadata": {
        "id": "awk0h4etO8XJ"
      },
      "execution_count": null,
      "outputs": []
    },
    {
      "cell_type": "markdown",
      "source": [
        "## PRE-BUILT REACT AGENT FROM LANGGRAPH"
      ],
      "metadata": {
        "id": "WfVARqGN_u4u"
      }
    },
    {
      "cell_type": "code",
      "source": [
        "# Import LangGraph prebuilt utilities\n",
        "from langgraph.prebuilt import create_react_agent\n",
        "from langchain_openai import ChatOpenAI\n",
        "import pprint\n",
        "\n",
        "# Set up the language model\n",
        "model = ChatOpenAI(model=\"gpt-4o\", temperature=0.5)\n",
        "\n",
        "# List of tools we created\n",
        "tools = [search_duckduckgo, search_wikipedia]\n",
        "\n",
        "# Create a LangGraph agent using the tools\n",
        "new_react_agent = create_react_agent(model, tools)\n",
        "\n",
        "# Define a simple user query to invoke the agent\n",
        "query = \"tell me about U.S. Election 2024\"\n",
        "\n",
        "# Invoke the agent with the query wrnew_react_agented in a message\n",
        "messages = new_react_agent.invoke({\"messages\": [(\"human\", query)]})\n",
        "\n",
        "# Print the final output\n",
        "# pprint.pprint(messages[\"messages\"])\n",
        "\n",
        "# pprint.pprint({\n",
        "#     \"input\": query,\n",
        "#     \"output\": messages[\"messages\"][-1].content,\n",
        "# })\n",
        "\n",
        "output = messages[\"messages\"][-1].content\n",
        "print(output)\n",
        "\n",
        "# Use the function on your messages\n",
        "# parse_agent_messages(messages[\"messages\"])\n"
      ],
      "metadata": {
        "colab": {
          "base_uri": "https://localhost:8080/"
        },
        "id": "JFG9ABTlzmnR",
        "outputId": "4811dcea-a188-446c-f5f1-85437c259a8b"
      },
      "execution_count": null,
      "outputs": [
        {
          "output_type": "stream",
          "name": "stdout",
          "text": [
            "The 2024 United States elections are scheduled for Tuesday, November 5, 2024. Here's a detailed overview of the elections:\n",
            "\n",
            "### Presidential Election\n",
            "- **Date**: November 5, 2024\n",
            "- **Nature**: 60th quadrennial presidential election.\n",
            "- **Process**: Voters in each state and the District of Columbia will choose electors for the Electoral College, who will then elect the president and vice president.\n",
            "- **Democratic Party**: Initially, incumbent President Joe Biden ran for re-election but withdrew on July 21, endorsing Vice President Kamala Harris, who became the party's nominee on August 5. Harris chose Tim Walz, Governor of Minnesota, as her running mate.\n",
            "- **Republican Party**: Former President Donald Trump is running for a second, non-consecutive term. He was nominated during the 2024 Republican National Convention with Ohio Senator JD Vance as his running mate. Trump has been involved in controversies, including false claims about the 2020 election and legal issues.\n",
            "\n",
            "### Congressional Elections\n",
            "- **House of Representatives**: All 435 seats will be contested.\n",
            "- **Senate**: 34 of the 100 seats will be contested.\n",
            "\n",
            "### Other Elections\n",
            "- **Governorships**: Thirteen state and territorial governorships will be contested.\n",
            "- **State and Local Elections**: Numerous other state and local elections will take place.\n",
            "\n",
            "### Key Issues and States\n",
            "- **Swing States**: Arizona, Georgia, Michigan, Nevada, North Carolina, Pennsylvania, and Wisconsin.\n",
            "- **Campaign Issues**: Abortion, border security and immigration, climate change, democracy, the economy, education, foreign policy, healthcare, and LGBTQ rights.\n",
            "\n",
            "### Additional Information\n",
            "- **Inauguration**: The winners are scheduled to be inaugurated on January 20, 2025.\n",
            "- **Public Opinion Polls**: Various nationwide public opinion polls have been conducted relating to the general election.\n",
            "\n",
            "For more detailed forecasts and analysis, you can refer to resources like [538's 2024 presidential election forecast](https://projects.fivethirtyeight.com/2024-election-forecast/).\n"
          ]
        }
      ]
    }
  ]
}