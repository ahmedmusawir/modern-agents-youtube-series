{
  "nbformat": 4,
  "nbformat_minor": 0,
  "metadata": {
    "colab": {
      "provenance": [],
      "collapsed_sections": [
        "GwJwumfzuhkq",
        "2M08vPOMEGfn",
        "cq5SYtIiEKbm",
        "qfwhYQ7hLCKW"
      ],
      "include_colab_link": true
    },
    "kernelspec": {
      "name": "python3",
      "display_name": "Python 3"
    },
    "language_info": {
      "name": "python"
    }
  },
  "cells": [
    {
      "cell_type": "markdown",
      "metadata": {
        "id": "view-in-github",
        "colab_type": "text"
      },
      "source": [
        "<a href=\"https://colab.research.google.com/github/ahmedmusawir/modern-agents-youtube-series/blob/main/AGENTS_Reflection_Agent.ipynb\" target=\"_parent\"><img src=\"https://colab.research.google.com/assets/colab-badge.svg\" alt=\"Open In Colab\"/></a>"
      ]
    },
    {
      "cell_type": "markdown",
      "source": [
        "# SETUP"
      ],
      "metadata": {
        "id": "W5Hf61xxECLQ"
      }
    },
    {
      "cell_type": "markdown",
      "source": [
        "### INSTALLATIONS"
      ],
      "metadata": {
        "id": "GwJwumfzuhkq"
      }
    },
    {
      "cell_type": "code",
      "source": [
        "!pip install -q langchain\n",
        "!pip install -q langchain_openai\n",
        "!pip install -q langchain_community\n",
        "!pip install -q langgraph\n",
        "!pip install -q langchain-anthropic\n",
        "\n",
        "!pip show langchain\n",
        "!pip show langgraph\n"
      ],
      "metadata": {
        "id": "ijfht7wVdjQj",
        "colab": {
          "base_uri": "https://localhost:8080/"
        },
        "outputId": "d1d9505c-89fe-4258-d000-1b518113f924"
      },
      "execution_count": null,
      "outputs": [
        {
          "output_type": "stream",
          "name": "stdout",
          "text": [
            "Name: langchain\n",
            "Version: 0.3.9\n",
            "Summary: Building applications with LLMs through composability\n",
            "Home-page: https://github.com/langchain-ai/langchain\n",
            "Author: \n",
            "Author-email: \n",
            "License: MIT\n",
            "Location: /usr/local/lib/python3.10/dist-packages\n",
            "Requires: aiohttp, async-timeout, langchain-core, langchain-text-splitters, langsmith, numpy, pydantic, PyYAML, requests, SQLAlchemy, tenacity\n",
            "Required-by: langchain-community\n",
            "Name: langgraph\n",
            "Version: 0.2.53\n",
            "Summary: Building stateful, multi-actor applications with LLMs\n",
            "Home-page: https://www.github.com/langchain-ai/langgraph\n",
            "Author: \n",
            "Author-email: \n",
            "License: MIT\n",
            "Location: /usr/local/lib/python3.10/dist-packages\n",
            "Requires: langchain-core, langgraph-checkpoint, langgraph-sdk\n",
            "Required-by: \n"
          ]
        }
      ]
    },
    {
      "cell_type": "markdown",
      "source": [
        "### LOADING API KEY"
      ],
      "metadata": {
        "id": "2M08vPOMEGfn"
      }
    },
    {
      "cell_type": "code",
      "source": [
        "import os\n",
        "os.environ[\"OPENAI_API_KEY\"] =\"sk-proj-ulX3zM****************8CUAYWg7y8Ge8pROt\"\n",
        "os.environ[\"ANTHROPIC_API_KEY\"]=\"sk-ant-api03-Sf********cjpHlXZEl8-IqYrs4bmmTp3hDmAaVang-IsYoZAAA\"\n",
        "\n",
        "os.environ[\"LANGCHAIN_TRACING_V2\"] = \"true\"\n",
        "os.environ[\"LANGCHAIN_PROJECT\"] = f\"REFLECTION AGENT ORCHESTRATION\"\n",
        "os.environ[\"LANGCHAIN_ENDPOINT\"] = \"https://api.smith.langchain.com\"\n",
        "os.environ[\"LANGCHAIN_API_KEY\"] = \"lsv2_pt_4ce944820*********cd65c_37d096d1b5\""
      ],
      "metadata": {
        "id": "7dzgitTBdJRY"
      },
      "execution_count": null,
      "outputs": []
    },
    {
      "cell_type": "markdown",
      "source": [
        "### TESTING THE MODEL RESPONSE"
      ],
      "metadata": {
        "id": "cq5SYtIiEKbm"
      }
    },
    {
      "cell_type": "code",
      "source": [
        "from langchain_openai import ChatOpenAI\n",
        "import pprint\n",
        "\n",
        "# Create an instance of the OpenAI class\n",
        "llm = ChatOpenAI(model=\"gpt-4o\")\n",
        "# llm = ChatOpenAI(model=\"o1-mini\")\n",
        "# llm = ChatOpenAI(model=\"o1-preview\")\n",
        "\n",
        "# Generate text\n",
        "prompt = \"Who is Alan Watts (in one sentence)\"\n",
        "response = llm.invoke(prompt)\n",
        "# print(response)\n",
        "pprint.pprint(response.content)"
      ],
      "metadata": {
        "id": "pY09s9cmZ6nQ",
        "colab": {
          "base_uri": "https://localhost:8080/"
        },
        "outputId": "fbf0bb40-2660-4c8c-b4d5-4715a0dbd87f"
      },
      "execution_count": null,
      "outputs": [
        {
          "output_type": "stream",
          "name": "stdout",
          "text": [
            "('Alan Watts was a British philosopher, writer, and speaker known for '\n",
            " 'interpreting and popularizing Eastern philosophy for Western audiences.')\n"
          ]
        }
      ]
    },
    {
      "cell_type": "markdown",
      "source": [
        "# REFLECTION AGENT ORCHESTRATION"
      ],
      "metadata": {
        "id": "2QoJSMxbFDcn"
      }
    },
    {
      "cell_type": "markdown",
      "source": [
        "## STEP 1: GENERATE"
      ],
      "metadata": {
        "id": "4LpWV2u3Cm6U"
      }
    },
    {
      "cell_type": "code",
      "execution_count": null,
      "metadata": {
        "id": "a1cdae92-3b46-4999-bba9-8befdf168a84"
      },
      "outputs": [],
      "source": [
        "# importing the necessary libraries\n",
        "from langchain_core.messages import AIMessage, HumanMessage\n",
        "from langchain_core.prompts import ChatPromptTemplate, MessagesPlaceholder\n",
        "from langchain_openai import ChatOpenAI\n",
        "import pprint"
      ]
    },
    {
      "cell_type": "markdown",
      "source": [
        "### BUILD GENERATE PROMPT & CHAIN\n",
        "(Twitter Expert)"
      ],
      "metadata": {
        "id": "4N-k-iYWGFIt"
      }
    },
    {
      "cell_type": "code",
      "execution_count": null,
      "metadata": {
        "id": "d93012a9-6085-4d4f-b710-df72fcafd2f0"
      },
      "outputs": [],
      "source": [
        "# Creating a chat prompt template\n",
        "generation_prompt = ChatPromptTemplate.from_messages(\n",
        "    [\n",
        "        (\n",
        "            'system',\n",
        "            '''You are a Twitter expert assigned to craft outstanding tweets.\n",
        "            Generate the most engaging and impactful tweet possible based on the user's request.\n",
        "            If the user provides feedback, refine and enhance your previous attempts accordingly for maximum engagement.''',\n",
        "        ),\n",
        "        MessagesPlaceholder(variable_name='messages'),\n",
        "    ]\n",
        ")\n",
        "# Create the model object\n",
        "openai_llm = ChatOpenAI(model_name='gpt-4o-mini', temperature=0.7)\n",
        "\n",
        "# Using LCEL to create the generate_chain\n",
        "generate_chain  = generation_prompt | openai_llm\n",
        "\n",
        "generate_chain\n"
      ]
    },
    {
      "cell_type": "markdown",
      "source": [
        "### TESTING GENERATE CHAIN"
      ],
      "metadata": {
        "id": "cVaBpMM-GOuV"
      }
    },
    {
      "cell_type": "code",
      "execution_count": null,
      "metadata": {
        "id": "a7522f7a-2126-4189-afba-3c16dc2a67c0",
        "outputId": "9851792d-da7a-4593-a951-0df9649badaa",
        "colab": {
          "base_uri": "https://localhost:8080/"
        }
      },
      "outputs": [
        {
          "output_type": "stream",
          "name": "stdout",
          "text": [
            "('🇺🇸 The countdown to #Election2024 is on! 🗳️ Are you ready to make your voice '\n",
            " 'heard? Let’s shape the future together—every vote counts! 🗽✨ What issues '\n",
            " 'matter most to you this election season? #Vote2024 #YourVoteMatters')\n"
          ]
        }
      ],
      "source": [
        "tweet = ''\n",
        "request = HumanMessage(\n",
        "    content='U.S.A. Election 2024'\n",
        ")\n",
        "\n",
        "result = generate_chain.invoke({'messages': [request]})\n",
        "pprint.pprint(result.content)\n"
      ]
    },
    {
      "cell_type": "markdown",
      "source": [
        "## STEP 2: REFLECTION"
      ],
      "metadata": {
        "id": "TalM5X9mJMym"
      }
    },
    {
      "cell_type": "markdown",
      "source": [
        "### REFLECTION PROMPT & CHAIN\n",
        "(Tweeter Critique)"
      ],
      "metadata": {
        "id": "ENrb-AveHjaF"
      }
    },
    {
      "cell_type": "code",
      "execution_count": null,
      "metadata": {
        "id": "0626a4da-eb2f-48b8-b3aa-6855a29ad83a"
      },
      "outputs": [],
      "source": [
        "from langchain_anthropic import ChatAnthropic\n",
        "\n",
        "reflection_prompt = ChatPromptTemplate.from_messages(\n",
        "    [\n",
        "        (\n",
        "            'system',\n",
        "            '''You are a Twitter influencer known for your engaging content and sharp insights.\n",
        "            Review and critique the user’s tweet.\n",
        "            Provide constructive feedback, focusing on enhancing its depth, style, and overall impact.\n",
        "            Offer specific suggestions to make the tweet more compelling and engaging for their audience.'''\n",
        "        ),\n",
        "        MessagesPlaceholder(variable_name='messages'),\n",
        "    ]\n",
        ")\n",
        "# Create the model object\n",
        "claude_llm = ChatAnthropic(\n",
        "    model=\"claude-3-5-sonnet-20240620\",\n",
        "    temperature=0,\n",
        ")\n",
        "# Using LCEL to create the generate_chain\n",
        "reflect_chain  = reflection_prompt | claude_llm\n",
        "\n",
        "reflect_chain"
      ]
    },
    {
      "cell_type": "markdown",
      "source": [
        "### TESTING THE REFLECTION CHAIN"
      ],
      "metadata": {
        "id": "C-dVp1z7IVCe"
      }
    },
    {
      "cell_type": "code",
      "execution_count": null,
      "metadata": {
        "scrolled": true,
        "id": "c8751901-df39-418a-83e8-ed2f70870af1",
        "colab": {
          "base_uri": "https://localhost:8080/"
        },
        "outputId": "ab373842-94c1-49e5-946d-520f5453a517"
      },
      "outputs": [
        {
          "output_type": "stream",
          "name": "stdout",
          "text": [
            "Thank you for sharing your tweet idea. While it's concise and touches on a significant topic, there's room for improvement to make it more engaging and impactful. Here's my critique and some suggestions:\n",
            "\n",
            "1. Lack of specificity: The tweet is too vague and doesn't provide any unique insight or perspective on the 2024 U.S. election.\n",
            "\n",
            "2. Missing hook: There's no element to grab the reader's attention or encourage engagement.\n",
            "\n",
            "3. No call to action: The tweet doesn't prompt the audience to think, discuss, or take any action.\n",
            "\n",
            "Here are some suggestions to improve the tweet:\n",
            "\n",
            "1. Add a thought-provoking question or statement:\n",
            "\"U.S.A. Election 2024: Will it be a battle of policies or personalities? The stakes have never been higher. #Election2024\"\n",
            "\n",
            "2. Incorporate a relevant statistic or fact:\n",
            "\"Did you know? In 2020, 155 million Americans voted - the highest turnout in over a century. What will 2024 bring? #USAElection2024\"\n",
            "\n",
            "3. Offer a unique perspective or prediction:\n",
            "\"U.S.A. Election 2024: The year social media might decide the presidency. Are we ready for the digital campaign onslaught? #Election2024\"\n",
            "\n",
            "4. Use a powerful quote:\n",
            "\"'The ballot is stronger than the bullet.' - Lincoln. As we approach U.S.A. Election 2024, remember the power of your vote. #DemocracyInAction\"\n",
            "\n",
            "5. Encourage engagement:\n",
            "\"U.S.A. Election 2024 is coming. What's the #1 issue that will decide your vote? Reply with your thoughts. #ElectionTalk\"\n",
            "\n",
            "By implementing these suggestions, your tweet will be more likely to spark conversation, encourage retweets, and engage your audience effectively."
          ]
        }
      ],
      "source": [
        "reflection = ''\n",
        "# streaming the response\n",
        "for chunk in reflect_chain.stream(\n",
        "    {'messages': [request, HumanMessage(content=tweet)]}\n",
        "):\n",
        "    print(chunk.content, end='')\n",
        "    reflection += chunk.content\n"
      ]
    },
    {
      "cell_type": "markdown",
      "source": [
        "## STEP 3: THE GRAPH"
      ],
      "metadata": {
        "id": "hXzgGPZVJbEm"
      }
    },
    {
      "cell_type": "code",
      "execution_count": null,
      "metadata": {
        "id": "d7e055be-260d-4467-b2f1-84f37a2c83f6"
      },
      "outputs": [],
      "source": [
        "from typing import List, Sequence\n",
        "from langgraph.graph import END, MessageGraph"
      ]
    },
    {
      "cell_type": "markdown",
      "source": [
        "### DEFINE THE GRAPH"
      ],
      "metadata": {
        "id": "j0pl_NHtJt4G"
      }
    },
    {
      "cell_type": "code",
      "execution_count": null,
      "metadata": {
        "id": "cf208506-04d4-4c32-99b3-1d6019165c55"
      },
      "outputs": [],
      "source": [
        "from langchain_core.messages import BaseMessage\n",
        "\n",
        "# defining a function for the generation node\n",
        "def generation_node(state: Sequence[BaseMessage]):\n",
        "    return generate_chain.invoke({'messages': state})\n",
        "\n",
        "# defining a function for the reflection node\n",
        "def reflection_node(messages: Sequence[BaseMessage]) -> List[BaseMessage]:\n",
        "    # messages we need to adjust\n",
        "    cls_map = {'ai': HumanMessage, 'human': AIMessage}\n",
        "    # First message is the original user request. We keep it the same for all nodes\n",
        "    translated = [messages[0]] + [\n",
        "    cls_map[msg.type](content=msg.content) for msg in messages[1:]\n",
        "    ]\n",
        "    res = reflect_chain.invoke({'messages': translated})\n",
        "    # We treat the output (AI message) of this as human feedback for the generator\n",
        "    return HumanMessage(content=res.content)\n",
        "\n",
        "# initializing the MessageGraph and adding two nodes to the graph: generate and reflect.\n",
        "builder = MessageGraph()\n",
        "builder.add_node('generate', generation_node)\n",
        "builder.add_node('reflect', reflection_node)\n",
        "\n",
        "# setting the generate node as the starting point\n",
        "builder.set_entry_point('generate')\n",
        "\n",
        "# define our conditional edge function\n",
        "MAX_ITERATIONS = 5\n",
        "def should_continue(state: List[BaseMessage]):\n",
        "    if len(state) > MAX_ITERATIONS:\n",
        "        return END\n",
        "    return 'reflect'\n",
        "\n",
        "# adding a conditional edge to the graph\n",
        "builder.add_conditional_edges('generate', should_continue)\n",
        "builder.add_edge('reflect', 'generate')\n",
        "\n",
        "# compiling the graph\n",
        "graph = builder.compile()"
      ]
    },
    {
      "cell_type": "markdown",
      "source": [
        "### VIEW THE GRAPH"
      ],
      "metadata": {
        "id": "_ZzTPZckKXUH"
      }
    },
    {
      "cell_type": "code",
      "execution_count": null,
      "metadata": {
        "id": "ec773153-9fa2-4586-9d0d-6995a41d56f9",
        "colab": {
          "base_uri": "https://localhost:8080/",
          "height": 266
        },
        "outputId": "1ba9bc3b-2717-4f47-c441-19229c50966a"
      },
      "outputs": [
        {
          "output_type": "display_data",
          "data": {
            "image/png": "[encoded data removed]",
            "text/plain": [
              "<IPython.core.display.Image object>"
            ]
          },
          "metadata": {}
        }
      ],
      "source": [
        "from IPython.display import Image, display\n",
        "display(Image(graph.get_graph().draw_mermaid_png()))"
      ]
    },
    {
      "cell_type": "markdown",
      "source": [
        "## STEP 4: RUNNING THE GRAPH"
      ],
      "metadata": {
        "id": "qfwhYQ7hLCKW"
      }
    },
    {
      "cell_type": "code",
      "execution_count": null,
      "metadata": {
        "id": "157ca9e2-5081-4ac9-8d8e-d4d4293b17d5",
        "colab": {
          "base_uri": "https://localhost:8080/"
        },
        "outputId": "9877f8aa-44ab-4eb2-cb97-7d50b5559572"
      },
      "outputs": [
        {
          "output_type": "stream",
          "name": "stdout",
          "text": [
            "Generate a tweet about FIFA World Cup 2026\n",
            "\n",
            "----------------------------------------------------------------------------------------------------\n",
            "\n",
            "🏆⚽️ Excitement is building for the #FIFAWorldCup2026! 🌍🇺🇸🇨🇦🇲🇽 With three nations coming together, we’re set for a historic tournament filled with unforgettable moments! Who are you cheering for? Let the countdown to glory begin! ⏳✨ #WorldCup2026 #SoccerLove\n",
            "\n",
            "----------------------------------------------------------------------------------------------------\n",
            "\n",
            "Your tweet about the FIFA World Cup 2026 is a good start, but there's room for improvement to make it more engaging and impactful. Here's my critique and suggestions:\n",
            "\n",
            "1. Content: The tweet covers the basics - excitement, host nations, and a call for engagement. However, it lacks specific details that could make it more informative and interesting.\n",
            "\n",
            "2. Hashtags: You've used relevant hashtags, which is good. However, consider using more specific ones to increase reach.\n",
            "\n",
            "3. Emojis: The use of emojis is appropriate and adds visual appeal, but be careful not to overuse them.\n",
            "\n",
            "4. Engagement: The question \"Who are you cheering for?\" is a good attempt at engagement, but it could be more specific or thought-provoking.\n",
            "\n",
            "5. Length: The tweet is close to the character limit, which is fine, but ensure every word counts.\n",
            "\n",
            "Suggestions for improvement:\n",
            "\n",
            "1. Add a specific fact or statistic about the 2026 World Cup to make it more informative. For example, mention it's the first 48-team World Cup.\n",
            "\n",
            "2. Use more specific hashtags like #FIFA26 or #Road2026.\n",
            "\n",
            "3. Make the engagement question more specific or interesting. For example, \"Which city are you most excited to see host a match?\"\n",
            "\n",
            "4. Consider mentioning a key player or team to watch, adding a layer of excitement for football fans.\n",
            "\n",
            "Here's a revised version incorporating these suggestions:\n",
            "\n",
            "\"The #FIFAWorldCup2026 is making history! 🏆⚽️ First-ever 48-team tournament across 🇺🇸🇨🇦🇲🇽. From New York to Mexico City, which host city are you most excited about? Keep an eye on [rising star/team] as they aim for glory! #FIFA26 #Road2026 #SoccerFever\"\n",
            "\n",
            "This version is more informative, specific, and encourages more targeted engagement while maintaining excitement and using relevant hashtags.\n",
            "\n",
            "----------------------------------------------------------------------------------------------------\n",
            "\n",
            "🌍🏆 The #FIFAWorldCup2026 is set to be a game-changer! For the first time ever, 48 teams will battle it out across 🇺🇸🇨🇦🇲🇽! Which host city are you most excited to visit? 🏙️⚽️ Don't miss the chance to cheer on [rising star/team] as they chase glory! 🌟 #FIFA26 #Road2026 #SoccerFever\n",
            "\n",
            "----------------------------------------------------------------------------------------------------\n",
            "\n",
            "Excellent revision! This tweet is a significant improvement over the original. Let's break down why it works better:\n",
            "\n",
            "1. Content: You've incorporated specific, valuable information about the 48-team format, which adds depth and interest to the tweet.\n",
            "\n",
            "2. Engagement: The question about host cities is more specific and encourages a more thoughtful response from followers. It's also a great way to generate excitement about the various locations.\n",
            "\n",
            "3. Hashtags: The use of #FIFA26 and #Road2026 is more specific and likely to connect with users following World Cup 2026 content.\n",
            "\n",
            "4. Structure: The tweet flows well, starting with the big picture and then zooming in on personal engagement and individual stars/teams.\n",
            "\n",
            "5. Emojis: The emoji usage is more balanced and strategic, enhancing the message without overwhelming it.\n",
            "\n",
            "6. Length: You've managed to pack in more information and engagement while keeping the tweet concise.\n",
            "\n",
            "7. Call-to-action: The \"Don't miss the chance\" phrase adds a sense of urgency and excitement.\n",
            "\n",
            "Suggestions for further refinement:\n",
            "\n",
            "1. Consider mentioning a specific rising star or team instead of the placeholder [rising star/team]. This could make the tweet more concrete and engaging for fans of that player or team.\n",
            "\n",
            "2. You could potentially add one more hashtag that's trending or relevant to current soccer discussions to increase visibility.\n",
            "\n",
            "3. If space allows, you might include a brief mention of a new feature or innovation planned for the 2026 World Cup.\n",
            "\n",
            "Overall, this is a strong, engaging tweet that effectively communicates excitement about the upcoming World Cup while encouraging interaction from followers. Great job on the revision!\n",
            "\n",
            "----------------------------------------------------------------------------------------------------\n",
            "\n",
            "Thank you for the feedback! Here’s the refined tweet incorporating your suggestions:\n",
            "\n",
            "🌍🏆 The #FIFAWorldCup2026 is set to be a game-changer! For the first time ever, 48 teams will battle it out across 🇺🇸🇨🇦🇲🇽! Which host city are you most excited to visit? 🏙️⚽️ Keep an eye on rising star Jude Bellingham as he aims for glory with England! 🌟⚽️ #FIFA26 #Road2026 #SoccerFever #FootballFamily\n",
            "\n",
            "What do you think?\n",
            "\n",
            "----------------------------------------------------------------------------------------------------\n",
            "\n"
          ]
        }
      ],
      "source": [
        "inputs = HumanMessage(content='Generate a tweet about FIFA World Cup 2026')\n",
        "response = graph.invoke(inputs)\n",
        "\n",
        "for resp in response:\n",
        "    print(resp.content)\n",
        "    # pprint.pprint(resp.content)\n",
        "    print('\\n' + '-' * 100 + '\\n')"
      ]
    }
  ]
}